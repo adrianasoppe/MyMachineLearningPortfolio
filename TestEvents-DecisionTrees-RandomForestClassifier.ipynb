{
 "cells": [
  {
   "cell_type": "code",
   "execution_count": 1,
   "id": "e00cae97-7d69-4662-93bc-4da98176ad26",
   "metadata": {},
   "outputs": [],
   "source": [
    "import pandas as pd \n",
    "import seaborn as sns \n",
    "import numpy as np \n",
    "import matplotlib.pyplot as plt"
   ]
  },
  {
   "cell_type": "code",
   "execution_count": 2,
   "id": "bf718f10-ddbe-431f-a37a-43a0685448b7",
   "metadata": {},
   "outputs": [],
   "source": [
    "%matplotlib inline"
   ]
  },
  {
   "cell_type": "code",
   "execution_count": 3,
   "id": "ec096071-32a7-4a2b-b270-339b97526ef2",
   "metadata": {},
   "outputs": [
    {
     "data": {
      "text/html": [
       "<div>\n",
       "<style scoped>\n",
       "    .dataframe tbody tr th:only-of-type {\n",
       "        vertical-align: middle;\n",
       "    }\n",
       "\n",
       "    .dataframe tbody tr th {\n",
       "        vertical-align: top;\n",
       "    }\n",
       "\n",
       "    .dataframe thead th {\n",
       "        text-align: right;\n",
       "    }\n",
       "</style>\n",
       "<table border=\"1\" class=\"dataframe\">\n",
       "  <thead>\n",
       "    <tr style=\"text-align: right;\">\n",
       "      <th></th>\n",
       "      <th>eventtimestamp</th>\n",
       "      <th>dataid</th>\n",
       "      <th>alertFlags</th>\n",
       "      <th>batteryLevel</th>\n",
       "      <th>signalStrength</th>\n",
       "      <th>temperature</th>\n",
       "      <th>macaddress</th>\n",
       "      <th>timestampgateway1</th>\n",
       "      <th>gatewayid1</th>\n",
       "      <th>messagetimestamp</th>\n",
       "      <th>...</th>\n",
       "      <th>id</th>\n",
       "      <th>macaddress2</th>\n",
       "      <th>asssetid</th>\n",
       "      <th>arrivalTime</th>\n",
       "      <th>DepartureTime</th>\n",
       "      <th>ToLat</th>\n",
       "      <th>ToLon</th>\n",
       "      <th>ToSite</th>\n",
       "      <th>FromLat</th>\n",
       "      <th>FromLon</th>\n",
       "    </tr>\n",
       "  </thead>\n",
       "  <tbody>\n",
       "    <tr>\n",
       "      <th>0</th>\n",
       "      <td>20171111Z</td>\n",
       "      <td>71690290-c6bf-11e7-9b04-733c46a7fa80</td>\n",
       "      <td>7</td>\n",
       "      <td>8</td>\n",
       "      <td>-77</td>\n",
       "      <td>34.0</td>\n",
       "      <td>A0:E6:F8:48:62:6A</td>\n",
       "      <td>2017-11-11 09:05:19+0000</td>\n",
       "      <td>GW001085</td>\n",
       "      <td>2017-11-11 08:55:17+0000</td>\n",
       "      <td>...</td>\n",
       "      <td>855752</td>\n",
       "      <td>A0:E6:F8:48:62:6A</td>\n",
       "      <td>113</td>\n",
       "      <td>27-3-2018 11:36</td>\n",
       "      <td>27-3-2018 11:36</td>\n",
       "      <td>-633,719,342,811,063</td>\n",
       "      <td>106,681,715,844,319</td>\n",
       "      <td>626</td>\n",
       "      <td>-633,719,342,811,063</td>\n",
       "      <td>106,681,715,844,319</td>\n",
       "    </tr>\n",
       "    <tr>\n",
       "      <th>1</th>\n",
       "      <td>20171111Z</td>\n",
       "      <td>3c98a040-c6c2-11e7-9b04-733c46a7fa80</td>\n",
       "      <td>7</td>\n",
       "      <td>8</td>\n",
       "      <td>-77</td>\n",
       "      <td>33.5</td>\n",
       "      <td>A0:E6:F8:48:62:6A</td>\n",
       "      <td>2017-11-11 09:25:19+0000</td>\n",
       "      <td>GW001085</td>\n",
       "      <td>2017-11-11 09:25:17+0000</td>\n",
       "      <td>...</td>\n",
       "      <td>855752</td>\n",
       "      <td>A0:E6:F8:48:62:6A</td>\n",
       "      <td>113</td>\n",
       "      <td>27-3-2018 11:36</td>\n",
       "      <td>27-3-2018 11:36</td>\n",
       "      <td>-633,719,342,811,063</td>\n",
       "      <td>106,681,715,844,319</td>\n",
       "      <td>626</td>\n",
       "      <td>-633,719,342,811,063</td>\n",
       "      <td>106,681,715,844,319</td>\n",
       "    </tr>\n",
       "    <tr>\n",
       "      <th>2</th>\n",
       "      <td>20180224Z</td>\n",
       "      <td>03a886b0-197e-11e8-b1b5-0fb4661abe0f</td>\n",
       "      <td>5</td>\n",
       "      <td>6</td>\n",
       "      <td>-80</td>\n",
       "      <td>33.5</td>\n",
       "      <td>CC:78:AB:15:3F:BE</td>\n",
       "      <td>2018-02-24 16:16:03+0000</td>\n",
       "      <td>GW001154</td>\n",
       "      <td>2018-02-24 16:00:44+0000</td>\n",
       "      <td>...</td>\n",
       "      <td>670634</td>\n",
       "      <td>CC:78:AB:15:3F:BE</td>\n",
       "      <td>11893</td>\n",
       "      <td>10-8-2017 12:15</td>\n",
       "      <td>10-8-2017 11:07</td>\n",
       "      <td>519,985,246</td>\n",
       "      <td>42,281,868</td>\n",
       "      <td>672</td>\n",
       "      <td>52,238,390,688,236</td>\n",
       "      <td>61,737,412,753,937</td>\n",
       "    </tr>\n",
       "    <tr>\n",
       "      <th>3</th>\n",
       "      <td>20180224Z</td>\n",
       "      <td>03a886b0-197e-11e8-b1b5-0fb4661abe0f</td>\n",
       "      <td>5</td>\n",
       "      <td>6</td>\n",
       "      <td>-80</td>\n",
       "      <td>33.5</td>\n",
       "      <td>CC:78:AB:15:3F:BE</td>\n",
       "      <td>2018-02-24 16:16:03+0000</td>\n",
       "      <td>GW001154</td>\n",
       "      <td>2018-02-24 16:00:44+0000</td>\n",
       "      <td>...</td>\n",
       "      <td>670702</td>\n",
       "      <td>CC:78:AB:15:3F:BE</td>\n",
       "      <td>11893</td>\n",
       "      <td>10-8-2017 12:20</td>\n",
       "      <td>10-8-2017 12:15</td>\n",
       "      <td>52,238,390,688,236</td>\n",
       "      <td>61,737,412,753,937</td>\n",
       "      <td>605</td>\n",
       "      <td>519,985,246</td>\n",
       "      <td>42,281,868</td>\n",
       "    </tr>\n",
       "    <tr>\n",
       "      <th>4</th>\n",
       "      <td>20180224Z</td>\n",
       "      <td>03a886b0-197e-11e8-b1b5-0fb4661abe0f</td>\n",
       "      <td>5</td>\n",
       "      <td>6</td>\n",
       "      <td>-80</td>\n",
       "      <td>33.5</td>\n",
       "      <td>CC:78:AB:15:3F:BE</td>\n",
       "      <td>2018-02-24 16:16:03+0000</td>\n",
       "      <td>GW001154</td>\n",
       "      <td>2018-02-24 16:00:44+0000</td>\n",
       "      <td>...</td>\n",
       "      <td>851270</td>\n",
       "      <td>CC:78:AB:15:3F:BE</td>\n",
       "      <td>11893</td>\n",
       "      <td>1-3-2018 10:03</td>\n",
       "      <td>1-3-2018 10:00</td>\n",
       "      <td>51,581,011</td>\n",
       "      <td>5,310,742</td>\n",
       "      <td>758</td>\n",
       "      <td>52,238,390,688,236</td>\n",
       "      <td>61,737,412,753,937</td>\n",
       "    </tr>\n",
       "  </tbody>\n",
       "</table>\n",
       "<p>5 rows × 21 columns</p>\n",
       "</div>"
      ],
      "text/plain": [
       "  eventtimestamp                                dataid  alertFlags  \\\n",
       "0      20171111Z  71690290-c6bf-11e7-9b04-733c46a7fa80           7   \n",
       "1      20171111Z  3c98a040-c6c2-11e7-9b04-733c46a7fa80           7   \n",
       "2      20180224Z  03a886b0-197e-11e8-b1b5-0fb4661abe0f           5   \n",
       "3      20180224Z  03a886b0-197e-11e8-b1b5-0fb4661abe0f           5   \n",
       "4      20180224Z  03a886b0-197e-11e8-b1b5-0fb4661abe0f           5   \n",
       "\n",
       "   batteryLevel  signalStrength  temperature         macaddress  \\\n",
       "0             8             -77         34.0  A0:E6:F8:48:62:6A   \n",
       "1             8             -77         33.5  A0:E6:F8:48:62:6A   \n",
       "2             6             -80         33.5  CC:78:AB:15:3F:BE   \n",
       "3             6             -80         33.5  CC:78:AB:15:3F:BE   \n",
       "4             6             -80         33.5  CC:78:AB:15:3F:BE   \n",
       "\n",
       "          timestampgateway1 gatewayid1          messagetimestamp  ...      id  \\\n",
       "0  2017-11-11 09:05:19+0000   GW001085  2017-11-11 08:55:17+0000  ...  855752   \n",
       "1  2017-11-11 09:25:19+0000   GW001085  2017-11-11 09:25:17+0000  ...  855752   \n",
       "2  2018-02-24 16:16:03+0000   GW001154  2018-02-24 16:00:44+0000  ...  670634   \n",
       "3  2018-02-24 16:16:03+0000   GW001154  2018-02-24 16:00:44+0000  ...  670702   \n",
       "4  2018-02-24 16:16:03+0000   GW001154  2018-02-24 16:00:44+0000  ...  851270   \n",
       "\n",
       "         macaddress2 asssetid      arrivalTime    DepartureTime  \\\n",
       "0  A0:E6:F8:48:62:6A      113  27-3-2018 11:36  27-3-2018 11:36   \n",
       "1  A0:E6:F8:48:62:6A      113  27-3-2018 11:36  27-3-2018 11:36   \n",
       "2  CC:78:AB:15:3F:BE    11893  10-8-2017 12:15  10-8-2017 11:07   \n",
       "3  CC:78:AB:15:3F:BE    11893  10-8-2017 12:20  10-8-2017 12:15   \n",
       "4  CC:78:AB:15:3F:BE    11893   1-3-2018 10:03   1-3-2018 10:00   \n",
       "\n",
       "                  ToLat                ToLon ToSite               FromLat  \\\n",
       "0  -633,719,342,811,063  106,681,715,844,319    626  -633,719,342,811,063   \n",
       "1  -633,719,342,811,063  106,681,715,844,319    626  -633,719,342,811,063   \n",
       "2           519,985,246           42,281,868    672    52,238,390,688,236   \n",
       "3    52,238,390,688,236   61,737,412,753,937    605           519,985,246   \n",
       "4            51,581,011            5,310,742    758    52,238,390,688,236   \n",
       "\n",
       "               FromLon  \n",
       "0  106,681,715,844,319  \n",
       "1  106,681,715,844,319  \n",
       "2   61,737,412,753,937  \n",
       "3           42,281,868  \n",
       "4   61,737,412,753,937  \n",
       "\n",
       "[5 rows x 21 columns]"
      ]
     },
     "execution_count": 3,
     "metadata": {},
     "output_type": "execute_result"
    }
   ],
   "source": [
    "df = pd.read_csv('EventsTest.csv', sep=';')\n",
    "df.head()"
   ]
  },
  {
   "cell_type": "code",
   "execution_count": 4,
   "id": "d125f456-b2b4-430d-ace1-f4fab240dc2a",
   "metadata": {},
   "outputs": [
    {
     "name": "stdout",
     "output_type": "stream",
     "text": [
      "<class 'pandas.core.frame.DataFrame'>\n",
      "RangeIndex: 987776 entries, 0 to 987775\n",
      "Data columns (total 21 columns):\n",
      " #   Column             Non-Null Count   Dtype  \n",
      "---  ------             --------------   -----  \n",
      " 0   eventtimestamp     987776 non-null  object \n",
      " 1   dataid             987776 non-null  object \n",
      " 2   alertFlags         987776 non-null  int64  \n",
      " 3   batteryLevel       987776 non-null  int64  \n",
      " 4   signalStrength     987776 non-null  int64  \n",
      " 5   temperature        987776 non-null  float64\n",
      " 6   macaddress         987776 non-null  object \n",
      " 7   timestampgateway1  987776 non-null  object \n",
      " 8   gatewayid1         987776 non-null  object \n",
      " 9   messagetimestamp   987776 non-null  object \n",
      " 10  assetid            987776 non-null  int64  \n",
      " 11  id                 987776 non-null  int64  \n",
      " 12  macaddress2        987776 non-null  object \n",
      " 13  asssetid           987776 non-null  int64  \n",
      " 14  arrivalTime        987776 non-null  object \n",
      " 15  DepartureTime      987776 non-null  object \n",
      " 16  ToLat              987776 non-null  object \n",
      " 17  ToLon              987776 non-null  object \n",
      " 18  ToSite             987776 non-null  int64  \n",
      " 19  FromLat            987776 non-null  object \n",
      " 20  FromLon            987776 non-null  object \n",
      "dtypes: float64(1), int64(7), object(13)\n",
      "memory usage: 158.3+ MB\n"
     ]
    }
   ],
   "source": [
    "df.info()"
   ]
  },
  {
   "cell_type": "code",
   "execution_count": 5,
   "id": "751f86a5-5666-4e45-9c5a-e818bbbd6fb1",
   "metadata": {},
   "outputs": [
    {
     "data": {
      "text/html": [
       "<div>\n",
       "<style scoped>\n",
       "    .dataframe tbody tr th:only-of-type {\n",
       "        vertical-align: middle;\n",
       "    }\n",
       "\n",
       "    .dataframe tbody tr th {\n",
       "        vertical-align: top;\n",
       "    }\n",
       "\n",
       "    .dataframe thead th {\n",
       "        text-align: right;\n",
       "    }\n",
       "</style>\n",
       "<table border=\"1\" class=\"dataframe\">\n",
       "  <thead>\n",
       "    <tr style=\"text-align: right;\">\n",
       "      <th></th>\n",
       "      <th>alertFlags</th>\n",
       "      <th>batteryLevel</th>\n",
       "      <th>signalStrength</th>\n",
       "      <th>temperature</th>\n",
       "      <th>assetid</th>\n",
       "      <th>id</th>\n",
       "      <th>asssetid</th>\n",
       "      <th>ToSite</th>\n",
       "    </tr>\n",
       "  </thead>\n",
       "  <tbody>\n",
       "    <tr>\n",
       "      <th>count</th>\n",
       "      <td>987776.000000</td>\n",
       "      <td>987776.000000</td>\n",
       "      <td>987776.000000</td>\n",
       "      <td>987776.000000</td>\n",
       "      <td>987776.000000</td>\n",
       "      <td>987776.000000</td>\n",
       "      <td>987776.000000</td>\n",
       "      <td>987776.000000</td>\n",
       "    </tr>\n",
       "    <tr>\n",
       "      <th>mean</th>\n",
       "      <td>2.882877</td>\n",
       "      <td>3.882877</td>\n",
       "      <td>-78.206575</td>\n",
       "      <td>16.259540</td>\n",
       "      <td>5025.326175</td>\n",
       "      <td>789509.505483</td>\n",
       "      <td>5025.326175</td>\n",
       "      <td>666.587250</td>\n",
       "    </tr>\n",
       "    <tr>\n",
       "      <th>std</th>\n",
       "      <td>2.108089</td>\n",
       "      <td>2.108089</td>\n",
       "      <td>10.526921</td>\n",
       "      <td>4.619252</td>\n",
       "      <td>12442.385114</td>\n",
       "      <td>167996.941161</td>\n",
       "      <td>12442.385114</td>\n",
       "      <td>65.571312</td>\n",
       "    </tr>\n",
       "    <tr>\n",
       "      <th>min</th>\n",
       "      <td>0.000000</td>\n",
       "      <td>1.000000</td>\n",
       "      <td>-99.000000</td>\n",
       "      <td>-8.500000</td>\n",
       "      <td>1.000000</td>\n",
       "      <td>361.000000</td>\n",
       "      <td>1.000000</td>\n",
       "      <td>605.000000</td>\n",
       "    </tr>\n",
       "    <tr>\n",
       "      <th>25%</th>\n",
       "      <td>1.000000</td>\n",
       "      <td>2.000000</td>\n",
       "      <td>-86.000000</td>\n",
       "      <td>13.500000</td>\n",
       "      <td>109.000000</td>\n",
       "      <td>830278.000000</td>\n",
       "      <td>109.000000</td>\n",
       "      <td>605.000000</td>\n",
       "    </tr>\n",
       "    <tr>\n",
       "      <th>50%</th>\n",
       "      <td>3.000000</td>\n",
       "      <td>4.000000</td>\n",
       "      <td>-80.000000</td>\n",
       "      <td>15.500000</td>\n",
       "      <td>141.000000</td>\n",
       "      <td>838769.000000</td>\n",
       "      <td>141.000000</td>\n",
       "      <td>615.000000</td>\n",
       "    </tr>\n",
       "    <tr>\n",
       "      <th>75%</th>\n",
       "      <td>5.000000</td>\n",
       "      <td>6.000000</td>\n",
       "      <td>-72.000000</td>\n",
       "      <td>20.000000</td>\n",
       "      <td>647.000000</td>\n",
       "      <td>841880.000000</td>\n",
       "      <td>647.000000</td>\n",
       "      <td>743.000000</td>\n",
       "    </tr>\n",
       "    <tr>\n",
       "      <th>max</th>\n",
       "      <td>7.000000</td>\n",
       "      <td>8.000000</td>\n",
       "      <td>-31.000000</td>\n",
       "      <td>34.000000</td>\n",
       "      <td>68252.000000</td>\n",
       "      <td>858350.000000</td>\n",
       "      <td>68252.000000</td>\n",
       "      <td>767.000000</td>\n",
       "    </tr>\n",
       "  </tbody>\n",
       "</table>\n",
       "</div>"
      ],
      "text/plain": [
       "          alertFlags   batteryLevel  signalStrength    temperature  \\\n",
       "count  987776.000000  987776.000000   987776.000000  987776.000000   \n",
       "mean        2.882877       3.882877      -78.206575      16.259540   \n",
       "std         2.108089       2.108089       10.526921       4.619252   \n",
       "min         0.000000       1.000000      -99.000000      -8.500000   \n",
       "25%         1.000000       2.000000      -86.000000      13.500000   \n",
       "50%         3.000000       4.000000      -80.000000      15.500000   \n",
       "75%         5.000000       6.000000      -72.000000      20.000000   \n",
       "max         7.000000       8.000000      -31.000000      34.000000   \n",
       "\n",
       "             assetid             id       asssetid         ToSite  \n",
       "count  987776.000000  987776.000000  987776.000000  987776.000000  \n",
       "mean     5025.326175  789509.505483    5025.326175     666.587250  \n",
       "std     12442.385114  167996.941161   12442.385114      65.571312  \n",
       "min         1.000000     361.000000       1.000000     605.000000  \n",
       "25%       109.000000  830278.000000     109.000000     605.000000  \n",
       "50%       141.000000  838769.000000     141.000000     615.000000  \n",
       "75%       647.000000  841880.000000     647.000000     743.000000  \n",
       "max     68252.000000  858350.000000   68252.000000     767.000000  "
      ]
     },
     "execution_count": 5,
     "metadata": {},
     "output_type": "execute_result"
    }
   ],
   "source": [
    "df.describe()"
   ]
  },
  {
   "cell_type": "code",
   "execution_count": 6,
   "id": "101ff4ea-fff6-449d-9ac4-63a874b7cdcc",
   "metadata": {},
   "outputs": [
    {
     "data": {
      "text/plain": [
       "<AxesSubplot:xlabel='temperature', ylabel='Count'>"
      ]
     },
     "execution_count": 6,
     "metadata": {},
     "output_type": "execute_result"
    },
    {
     "data": {
      "image/png": "[encoded data removed]",
      "text/plain": [
       "<Figure size 864x576 with 1 Axes>"
      ]
     },
     "metadata": {
      "needs_background": "light"
     },
     "output_type": "display_data"
    }
   ],
   "source": [
    "plt.figure(figsize=(12,8))\n",
    "sns.histplot(data=df, x='temperature', hue='alertFlags', palette='coolwarm', bins=20)"
   ]
  },
  {
   "cell_type": "code",
   "execution_count": 7,
   "id": "adb300d1-c444-42a0-b6f0-cdb162477de7",
   "metadata": {},
   "outputs": [
    {
     "data": {
      "text/plain": [
       "<AxesSubplot:xlabel='signalStrength', ylabel='Count'>"
      ]
     },
     "execution_count": 7,
     "metadata": {},
     "output_type": "execute_result"
    },
    {
     "data": {
      "image/png": "[encoded data removed]",
      "text/plain": [
       "<Figure size 864x576 with 1 Axes>"
      ]
     },
     "metadata": {
      "needs_background": "light"
     },
     "output_type": "display_data"
    }
   ],
   "source": [
    "plt.figure(figsize=(12,8))\n",
    "sns.histplot(data=df, x='signalStrength', hue='alertFlags', palette='coolwarm', bins=20)"
   ]
  },
  {
   "cell_type": "code",
   "execution_count": 8,
   "id": "bbad6a1f-0af6-4f17-9f95-4bf234503f42",
   "metadata": {},
   "outputs": [],
   "source": [
    "from sklearn.model_selection import train_test_split"
   ]
  },
  {
   "cell_type": "code",
   "execution_count": 9,
   "id": "a62df4a3-50b7-4c04-ac9f-95002e5225f5",
   "metadata": {},
   "outputs": [
    {
     "data": {
      "text/plain": [
       "Index(['eventtimestamp', 'dataid', 'alertFlags', 'batteryLevel',\n",
       "       'signalStrength', 'temperature', 'macaddress', 'timestampgateway1',\n",
       "       'gatewayid1', 'messagetimestamp', 'assetid', 'id', 'macaddress2',\n",
       "       'asssetid', 'arrivalTime', 'DepartureTime', 'ToLat', 'ToLon', 'ToSite',\n",
       "       'FromLat', 'FromLon'],\n",
       "      dtype='object')"
      ]
     },
     "execution_count": 9,
     "metadata": {},
     "output_type": "execute_result"
    }
   ],
   "source": [
    "df.columns"
   ]
  },
  {
   "cell_type": "code",
   "execution_count": 10,
   "id": "5c331ce0-6c47-4b84-81b4-4b06881185d0",
   "metadata": {},
   "outputs": [],
   "source": [
    "cdf=df[['alertFlags', 'batteryLevel','signalStrength', 'temperature']]"
   ]
  },
  {
   "cell_type": "code",
   "execution_count": 11,
   "id": "1b7e3701-0fc5-4880-b22d-2b965df4f94a",
   "metadata": {},
   "outputs": [
    {
     "data": {
      "text/html": [
       "<div>\n",
       "<style scoped>\n",
       "    .dataframe tbody tr th:only-of-type {\n",
       "        vertical-align: middle;\n",
       "    }\n",
       "\n",
       "    .dataframe tbody tr th {\n",
       "        vertical-align: top;\n",
       "    }\n",
       "\n",
       "    .dataframe thead th {\n",
       "        text-align: right;\n",
       "    }\n",
       "</style>\n",
       "<table border=\"1\" class=\"dataframe\">\n",
       "  <thead>\n",
       "    <tr style=\"text-align: right;\">\n",
       "      <th></th>\n",
       "      <th>alertFlags</th>\n",
       "      <th>batteryLevel</th>\n",
       "      <th>signalStrength</th>\n",
       "      <th>temperature</th>\n",
       "    </tr>\n",
       "  </thead>\n",
       "  <tbody>\n",
       "    <tr>\n",
       "      <th>0</th>\n",
       "      <td>7</td>\n",
       "      <td>8</td>\n",
       "      <td>-77</td>\n",
       "      <td>34.0</td>\n",
       "    </tr>\n",
       "    <tr>\n",
       "      <th>1</th>\n",
       "      <td>7</td>\n",
       "      <td>8</td>\n",
       "      <td>-77</td>\n",
       "      <td>33.5</td>\n",
       "    </tr>\n",
       "    <tr>\n",
       "      <th>2</th>\n",
       "      <td>5</td>\n",
       "      <td>6</td>\n",
       "      <td>-80</td>\n",
       "      <td>33.5</td>\n",
       "    </tr>\n",
       "    <tr>\n",
       "      <th>3</th>\n",
       "      <td>5</td>\n",
       "      <td>6</td>\n",
       "      <td>-80</td>\n",
       "      <td>33.5</td>\n",
       "    </tr>\n",
       "    <tr>\n",
       "      <th>4</th>\n",
       "      <td>5</td>\n",
       "      <td>6</td>\n",
       "      <td>-80</td>\n",
       "      <td>33.5</td>\n",
       "    </tr>\n",
       "    <tr>\n",
       "      <th>...</th>\n",
       "      <td>...</td>\n",
       "      <td>...</td>\n",
       "      <td>...</td>\n",
       "      <td>...</td>\n",
       "    </tr>\n",
       "    <tr>\n",
       "      <th>987771</th>\n",
       "      <td>3</td>\n",
       "      <td>4</td>\n",
       "      <td>-87</td>\n",
       "      <td>-8.5</td>\n",
       "    </tr>\n",
       "    <tr>\n",
       "      <th>987772</th>\n",
       "      <td>3</td>\n",
       "      <td>4</td>\n",
       "      <td>-87</td>\n",
       "      <td>-8.5</td>\n",
       "    </tr>\n",
       "    <tr>\n",
       "      <th>987773</th>\n",
       "      <td>3</td>\n",
       "      <td>4</td>\n",
       "      <td>-87</td>\n",
       "      <td>-8.5</td>\n",
       "    </tr>\n",
       "    <tr>\n",
       "      <th>987774</th>\n",
       "      <td>3</td>\n",
       "      <td>4</td>\n",
       "      <td>-87</td>\n",
       "      <td>-8.5</td>\n",
       "    </tr>\n",
       "    <tr>\n",
       "      <th>987775</th>\n",
       "      <td>3</td>\n",
       "      <td>4</td>\n",
       "      <td>-87</td>\n",
       "      <td>-8.5</td>\n",
       "    </tr>\n",
       "  </tbody>\n",
       "</table>\n",
       "<p>987776 rows × 4 columns</p>\n",
       "</div>"
      ],
      "text/plain": [
       "        alertFlags  batteryLevel  signalStrength  temperature\n",
       "0                7             8             -77         34.0\n",
       "1                7             8             -77         33.5\n",
       "2                5             6             -80         33.5\n",
       "3                5             6             -80         33.5\n",
       "4                5             6             -80         33.5\n",
       "...            ...           ...             ...          ...\n",
       "987771           3             4             -87         -8.5\n",
       "987772           3             4             -87         -8.5\n",
       "987773           3             4             -87         -8.5\n",
       "987774           3             4             -87         -8.5\n",
       "987775           3             4             -87         -8.5\n",
       "\n",
       "[987776 rows x 4 columns]"
      ]
     },
     "execution_count": 11,
     "metadata": {},
     "output_type": "execute_result"
    }
   ],
   "source": [
    "cdf"
   ]
  },
  {
   "cell_type": "code",
   "execution_count": 12,
   "id": "dd4512a1-d873-4ef5-a619-d04b2df0ddce",
   "metadata": {},
   "outputs": [],
   "source": [
    "X = cdf[['batteryLevel', 'signalStrength', 'temperature']]\n",
    "y = df['alertFlags']"
   ]
  },
  {
   "cell_type": "code",
   "execution_count": 13,
   "id": "11d967ec-6a37-4bda-9b73-ab57fe196757",
   "metadata": {},
   "outputs": [
    {
     "data": {
      "text/html": [
       "<div>\n",
       "<style scoped>\n",
       "    .dataframe tbody tr th:only-of-type {\n",
       "        vertical-align: middle;\n",
       "    }\n",
       "\n",
       "    .dataframe tbody tr th {\n",
       "        vertical-align: top;\n",
       "    }\n",
       "\n",
       "    .dataframe thead th {\n",
       "        text-align: right;\n",
       "    }\n",
       "</style>\n",
       "<table border=\"1\" class=\"dataframe\">\n",
       "  <thead>\n",
       "    <tr style=\"text-align: right;\">\n",
       "      <th></th>\n",
       "      <th>batteryLevel</th>\n",
       "      <th>signalStrength</th>\n",
       "      <th>temperature</th>\n",
       "    </tr>\n",
       "  </thead>\n",
       "  <tbody>\n",
       "    <tr>\n",
       "      <th>0</th>\n",
       "      <td>8</td>\n",
       "      <td>-77</td>\n",
       "      <td>34.0</td>\n",
       "    </tr>\n",
       "    <tr>\n",
       "      <th>1</th>\n",
       "      <td>8</td>\n",
       "      <td>-77</td>\n",
       "      <td>33.5</td>\n",
       "    </tr>\n",
       "    <tr>\n",
       "      <th>2</th>\n",
       "      <td>6</td>\n",
       "      <td>-80</td>\n",
       "      <td>33.5</td>\n",
       "    </tr>\n",
       "    <tr>\n",
       "      <th>3</th>\n",
       "      <td>6</td>\n",
       "      <td>-80</td>\n",
       "      <td>33.5</td>\n",
       "    </tr>\n",
       "    <tr>\n",
       "      <th>4</th>\n",
       "      <td>6</td>\n",
       "      <td>-80</td>\n",
       "      <td>33.5</td>\n",
       "    </tr>\n",
       "    <tr>\n",
       "      <th>...</th>\n",
       "      <td>...</td>\n",
       "      <td>...</td>\n",
       "      <td>...</td>\n",
       "    </tr>\n",
       "    <tr>\n",
       "      <th>987771</th>\n",
       "      <td>4</td>\n",
       "      <td>-87</td>\n",
       "      <td>-8.5</td>\n",
       "    </tr>\n",
       "    <tr>\n",
       "      <th>987772</th>\n",
       "      <td>4</td>\n",
       "      <td>-87</td>\n",
       "      <td>-8.5</td>\n",
       "    </tr>\n",
       "    <tr>\n",
       "      <th>987773</th>\n",
       "      <td>4</td>\n",
       "      <td>-87</td>\n",
       "      <td>-8.5</td>\n",
       "    </tr>\n",
       "    <tr>\n",
       "      <th>987774</th>\n",
       "      <td>4</td>\n",
       "      <td>-87</td>\n",
       "      <td>-8.5</td>\n",
       "    </tr>\n",
       "    <tr>\n",
       "      <th>987775</th>\n",
       "      <td>4</td>\n",
       "      <td>-87</td>\n",
       "      <td>-8.5</td>\n",
       "    </tr>\n",
       "  </tbody>\n",
       "</table>\n",
       "<p>987776 rows × 3 columns</p>\n",
       "</div>"
      ],
      "text/plain": [
       "        batteryLevel  signalStrength  temperature\n",
       "0                  8             -77         34.0\n",
       "1                  8             -77         33.5\n",
       "2                  6             -80         33.5\n",
       "3                  6             -80         33.5\n",
       "4                  6             -80         33.5\n",
       "...              ...             ...          ...\n",
       "987771             4             -87         -8.5\n",
       "987772             4             -87         -8.5\n",
       "987773             4             -87         -8.5\n",
       "987774             4             -87         -8.5\n",
       "987775             4             -87         -8.5\n",
       "\n",
       "[987776 rows x 3 columns]"
      ]
     },
     "execution_count": 13,
     "metadata": {},
     "output_type": "execute_result"
    }
   ],
   "source": [
    "X"
   ]
  },
  {
   "cell_type": "code",
   "execution_count": 14,
   "id": "211f9c1f-a891-4d8a-ad1b-0a8db6545f36",
   "metadata": {},
   "outputs": [
    {
     "data": {
      "text/plain": [
       "0         7\n",
       "1         7\n",
       "2         5\n",
       "3         5\n",
       "4         5\n",
       "         ..\n",
       "987771    3\n",
       "987772    3\n",
       "987773    3\n",
       "987774    3\n",
       "987775    3\n",
       "Name: alertFlags, Length: 987776, dtype: int64"
      ]
     },
     "execution_count": 14,
     "metadata": {},
     "output_type": "execute_result"
    }
   ],
   "source": [
    "y"
   ]
  },
  {
   "cell_type": "code",
   "execution_count": 15,
   "id": "9712d97a-8ab0-42ec-9aa8-88f00dac4167",
   "metadata": {},
   "outputs": [],
   "source": [
    "X_train, X_test, y_train, y_test = train_test_split(X, y, test_size=0.3)"
   ]
  },
  {
   "cell_type": "code",
   "execution_count": 16,
   "id": "4eb136c4-dc27-4c57-ab6d-22e3f983e018",
   "metadata": {},
   "outputs": [],
   "source": [
    "#Build a model"
   ]
  },
  {
   "cell_type": "code",
   "execution_count": 17,
   "id": "d9855335-61ae-49bc-bd4e-5839aaaf7333",
   "metadata": {},
   "outputs": [],
   "source": [
    "from sklearn.tree import DecisionTreeClassifier"
   ]
  },
  {
   "cell_type": "code",
   "execution_count": 18,
   "id": "4fbe3ce7-b8c7-438f-ac4b-68c3e2590bfa",
   "metadata": {},
   "outputs": [],
   "source": [
    "dtree = DecisionTreeClassifier()"
   ]
  },
  {
   "cell_type": "code",
   "execution_count": 19,
   "id": "76829e27-5564-4790-89b6-def4dba36fd9",
   "metadata": {},
   "outputs": [
    {
     "data": {
      "text/plain": [
       "DecisionTreeClassifier()"
      ]
     },
     "execution_count": 19,
     "metadata": {},
     "output_type": "execute_result"
    }
   ],
   "source": [
    "dtree.fit(X_train, y_train)"
   ]
  },
  {
   "cell_type": "code",
   "execution_count": 20,
   "id": "76a722f1-608d-4b80-b608-8ccdf674e5d5",
   "metadata": {},
   "outputs": [],
   "source": [
    "#Predictions"
   ]
  },
  {
   "cell_type": "code",
   "execution_count": 21,
   "id": "be14c434-10ac-43bd-ba16-300d124511a6",
   "metadata": {},
   "outputs": [],
   "source": [
    "dt_predictions = dtree.predict(X_test)"
   ]
  },
  {
   "cell_type": "code",
   "execution_count": 22,
   "id": "d1033adc-6d49-424d-97fc-8e64de541a98",
   "metadata": {},
   "outputs": [
    {
     "data": {
      "text/plain": [
       "array([1, 1, 5, ..., 5, 5, 5], dtype=int64)"
      ]
     },
     "execution_count": 22,
     "metadata": {},
     "output_type": "execute_result"
    }
   ],
   "source": [
    "dt_predictions"
   ]
  },
  {
   "cell_type": "code",
   "execution_count": 23,
   "id": "20f1ecc8-59b1-4061-b493-1c404f89360c",
   "metadata": {},
   "outputs": [],
   "source": [
    "np.savetxt('Predictions-EventsDecisionTree-1.csv', dt_predictions, '%s')"
   ]
  },
  {
   "cell_type": "code",
   "execution_count": 24,
   "id": "9e379b27-a567-428e-8f84-24de239f3b51",
   "metadata": {},
   "outputs": [],
   "source": [
    "from sklearn.metrics import classification_report, confusion_matrix"
   ]
  },
  {
   "cell_type": "code",
   "execution_count": 25,
   "id": "69255394-9271-4ec4-a1eb-00efae193c52",
   "metadata": {},
   "outputs": [
    {
     "name": "stdout",
     "output_type": "stream",
     "text": [
      "              precision    recall  f1-score   support\n",
      "\n",
      "           0       1.00      1.00      1.00     34943\n",
      "           1       1.00      1.00      1.00    105134\n",
      "           2       1.00      1.00      1.00      1892\n",
      "           3       1.00      1.00      1.00     15967\n",
      "           4       1.00      1.00      1.00       134\n",
      "           5       1.00      1.00      1.00    135617\n",
      "           7       1.00      1.00      1.00      2646\n",
      "\n",
      "    accuracy                           1.00    296333\n",
      "   macro avg       1.00      1.00      1.00    296333\n",
      "weighted avg       1.00      1.00      1.00    296333\n",
      "\n"
     ]
    }
   ],
   "source": [
    "print(classification_report(y_test, dt_predictions))"
   ]
  },
  {
   "cell_type": "code",
   "execution_count": 26,
   "id": "22ebffcc-3cc5-429b-96d3-798b5fc9e0f3",
   "metadata": {},
   "outputs": [
    {
     "name": "stdout",
     "output_type": "stream",
     "text": [
      "[[ 34943      0      0      0      0      0      0]\n",
      " [     0 105134      0      0      0      0      0]\n",
      " [     0      0   1892      0      0      0      0]\n",
      " [     0      0      0  15967      0      0      0]\n",
      " [     0      0      0      0    134      0      0]\n",
      " [     0      0      0      0      0 135617      0]\n",
      " [     0      0      0      0      0      0   2646]]\n"
     ]
    }
   ],
   "source": [
    "print(confusion_matrix(y_test, dt_predictions))"
   ]
  },
  {
   "cell_type": "code",
   "execution_count": 27,
   "id": "b2afeb3f-7bca-41fe-9019-c4c4a3f5d03b",
   "metadata": {},
   "outputs": [],
   "source": [
    "from sklearn.ensemble import RandomForestClassifier"
   ]
  },
  {
   "cell_type": "code",
   "execution_count": 28,
   "id": "fb1c0cf4-1d90-4b77-8d70-3d83947d5720",
   "metadata": {},
   "outputs": [],
   "source": [
    "rfc_model = RandomForestClassifier(n_estimators = 600)"
   ]
  },
  {
   "cell_type": "code",
   "execution_count": 29,
   "id": "4228163c-5b2a-462a-8946-9960706d2630",
   "metadata": {},
   "outputs": [
    {
     "data": {
      "text/plain": [
       "RandomForestClassifier(n_estimators=600)"
      ]
     },
     "execution_count": 29,
     "metadata": {},
     "output_type": "execute_result"
    }
   ],
   "source": [
    "rfc_model"
   ]
  },
  {
   "cell_type": "code",
   "execution_count": 30,
   "id": "95d6c51a-db23-4334-bf58-1802324e3124",
   "metadata": {},
   "outputs": [
    {
     "data": {
      "text/plain": [
       "RandomForestClassifier(n_estimators=600)"
      ]
     },
     "execution_count": 30,
     "metadata": {},
     "output_type": "execute_result"
    }
   ],
   "source": [
    "rfc_model.fit(X_train, y_train)"
   ]
  },
  {
   "cell_type": "code",
   "execution_count": 31,
   "id": "40bc4f79-da61-4b35-9aab-e77e953e8673",
   "metadata": {},
   "outputs": [],
   "source": [
    "#predictions"
   ]
  },
  {
   "cell_type": "code",
   "execution_count": 32,
   "id": "7da59165-dfe6-4fa1-a775-e368696c327b",
   "metadata": {},
   "outputs": [],
   "source": [
    "rfc_predictions = rfc_model.predict(X_test)"
   ]
  },
  {
   "cell_type": "code",
   "execution_count": 33,
   "id": "63c1272b-b59d-4222-89e4-6257f54cb077",
   "metadata": {},
   "outputs": [
    {
     "data": {
      "text/plain": [
       "array([1, 1, 5, ..., 5, 5, 5], dtype=int64)"
      ]
     },
     "execution_count": 33,
     "metadata": {},
     "output_type": "execute_result"
    }
   ],
   "source": [
    "rfc_predictions"
   ]
  },
  {
   "cell_type": "code",
   "execution_count": 34,
   "id": "1a349548-2513-4842-8409-89e9bd9ab259",
   "metadata": {},
   "outputs": [],
   "source": [
    "np.savetxt('Predictions-Events-RandomForestClassifier-2.csv', rfc_predictions, '%s')"
   ]
  },
  {
   "cell_type": "code",
   "execution_count": 35,
   "id": "70b6b26f-31a1-480b-bcc9-418ec41d5a36",
   "metadata": {},
   "outputs": [
    {
     "data": {
      "text/plain": [
       "623625    1\n",
       "481186    1\n",
       "80216     5\n",
       "575952    3\n",
       "258532    1\n",
       "         ..\n",
       "68402     5\n",
       "53242     1\n",
       "612397    5\n",
       "476290    5\n",
       "70804     5\n",
       "Name: alertFlags, Length: 296333, dtype: int64"
      ]
     },
     "execution_count": 35,
     "metadata": {},
     "output_type": "execute_result"
    }
   ],
   "source": [
    "y_test"
   ]
  },
  {
   "cell_type": "code",
   "execution_count": 36,
   "id": "c956a3f9-f2bf-44ff-93b4-85597f006b19",
   "metadata": {},
   "outputs": [],
   "source": [
    "np.savetxt('Events-Y_test values - RandomForestClassifier.csv', y_test, '%s')"
   ]
  },
  {
   "cell_type": "code",
   "execution_count": 37,
   "id": "6af54bd3-7211-4627-a44e-774e94098da8",
   "metadata": {},
   "outputs": [],
   "source": [
    "#Evaluation"
   ]
  },
  {
   "cell_type": "code",
   "execution_count": 38,
   "id": "b9a45fba-8092-4f98-b3ca-202f1391029c",
   "metadata": {},
   "outputs": [],
   "source": [
    "from sklearn.metrics import classification_report, confusion_matrix"
   ]
  },
  {
   "cell_type": "code",
   "execution_count": 39,
   "id": "2159aa75-39dc-43d5-8c9e-22f7a558f110",
   "metadata": {},
   "outputs": [
    {
     "name": "stdout",
     "output_type": "stream",
     "text": [
      "              precision    recall  f1-score   support\n",
      "\n",
      "           0       1.00      1.00      1.00     34943\n",
      "           1       1.00      1.00      1.00    105134\n",
      "           2       1.00      1.00      1.00      1892\n",
      "           3       1.00      1.00      1.00     15967\n",
      "           4       1.00      0.99      0.99       134\n",
      "           5       1.00      1.00      1.00    135617\n",
      "           7       1.00      1.00      1.00      2646\n",
      "\n",
      "    accuracy                           1.00    296333\n",
      "   macro avg       1.00      1.00      1.00    296333\n",
      "weighted avg       1.00      1.00      1.00    296333\n",
      "\n"
     ]
    }
   ],
   "source": [
    "print(classification_report(y_test, rfc_predictions))"
   ]
  },
  {
   "cell_type": "code",
   "execution_count": 40,
   "id": "f6f25573-79b1-44a5-aed4-0649687ff6ca",
   "metadata": {},
   "outputs": [],
   "source": [
    "matrix = confusion_matrix(y_test, rfc_predictions)"
   ]
  },
  {
   "cell_type": "code",
   "execution_count": 42,
   "id": "415a10b7-7808-49ea-8889-2ca022d480f2",
   "metadata": {},
   "outputs": [
    {
     "data": {
      "text/plain": [
       "<AxesSubplot:>"
      ]
     },
     "execution_count": 42,
     "metadata": {},
     "output_type": "execute_result"
    },
    {
     "data": {
      "image/png": "[encoded data removed]",
      "text/plain": [
       "<Figure size 864x504 with 1 Axes>"
      ]
     },
     "metadata": {
      "needs_background": "light"
     },
     "output_type": "display_data"
    }
   ],
   "source": [
    "plt.figure(figsize=(12,7))\n",
    "sns.heatmap(matrix, square=True, annot=True, cmap='Blues', cbar=False, fmt='d')"
   ]
  },
  {
   "cell_type": "code",
   "execution_count": null,
   "id": "2ce39aee-3cb3-45ca-b9fe-d69499d20f0a",
   "metadata": {},
   "outputs": [],
   "source": []
  },
  {
   "cell_type": "code",
   "execution_count": null,
   "id": "c6836e58-dde4-472c-b70f-96ee29de9ac2",
   "metadata": {},
   "outputs": [],
   "source": []
  },
  {
   "cell_type": "code",
   "execution_count": null,
   "id": "4cc12137-1cd6-45e5-8b8a-3480ca9da1d4",
   "metadata": {},
   "outputs": [],
   "source": []
  },
  {
   "cell_type": "code",
   "execution_count": null,
   "id": "252ed035-0f6e-406a-91e8-709621dd5b99",
   "metadata": {},
   "outputs": [],
   "source": []
  },
  {
   "cell_type": "code",
   "execution_count": null,
   "id": "ff5dec60-0490-4bd9-a801-fe66deda57bd",
   "metadata": {},
   "outputs": [],
   "source": []
  },
  {
   "cell_type": "code",
   "execution_count": null,
   "id": "3495db5f-eb24-44a4-ba8e-60d49c7ced2e",
   "metadata": {},
   "outputs": [],
   "source": []
  }
 ],
 "metadata": {
  "kernelspec": {
   "display_name": "Python 3 (ipykernel)",
   "language": "python",
   "name": "python3"
  },
  "language_info": {
   "codemirror_mode": {
    "name": "ipython",
    "version": 3
   },
   "file_extension": ".py",
   "mimetype": "text/x-python",
   "name": "python",
   "nbconvert_exporter": "python",
   "pygments_lexer": "ipython3",
   "version": "3.8.0"
  }
 },
 "nbformat": 4,
 "nbformat_minor": 5
}
