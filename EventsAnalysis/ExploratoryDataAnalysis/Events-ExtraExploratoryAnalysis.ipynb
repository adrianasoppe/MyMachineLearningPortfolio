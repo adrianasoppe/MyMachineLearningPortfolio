{
 "cells": [
  {
   "cell_type": "code",
   "execution_count": 1,
   "id": "horizontal-realtor",
   "metadata": {},
   "outputs": [],
   "source": [
    "import pandas as pd\n",
    "import numpy as np\n",
    "import seaborn as sns\n",
    "import matplotlib.pyplot as plt\n",
    "%matplotlib inline \n",
    "sns.set(color_codes=True)"
   ]
  },
  {
   "cell_type": "code",
   "execution_count": 3,
   "id": "greater-rehabilitation",
   "metadata": {},
   "outputs": [
    {
     "data": {
      "text/html": [
       "<div>\n",
       "<style scoped>\n",
       "    .dataframe tbody tr th:only-of-type {\n",
       "        vertical-align: middle;\n",
       "    }\n",
       "\n",
       "    .dataframe tbody tr th {\n",
       "        vertical-align: top;\n",
       "    }\n",
       "\n",
       "    .dataframe thead th {\n",
       "        text-align: right;\n",
       "    }\n",
       "</style>\n",
       "<table border=\"1\" class=\"dataframe\">\n",
       "  <thead>\n",
       "    <tr style=\"text-align: right;\">\n",
       "      <th></th>\n",
       "      <th>eventtimestamp</th>\n",
       "      <th>dataid</th>\n",
       "      <th>alertFlags</th>\n",
       "      <th>batteryLevel</th>\n",
       "      <th>signalStrength</th>\n",
       "      <th>temperature</th>\n",
       "      <th>macaddress</th>\n",
       "      <th>timestampgateway1</th>\n",
       "      <th>gatewayid1</th>\n",
       "      <th>messagetimestamp</th>\n",
       "      <th>...</th>\n",
       "      <th>id</th>\n",
       "      <th>macaddress2</th>\n",
       "      <th>asssetid</th>\n",
       "      <th>arrivalTime</th>\n",
       "      <th>DepartureTime</th>\n",
       "      <th>ToLat</th>\n",
       "      <th>ToLon</th>\n",
       "      <th>ToSite</th>\n",
       "      <th>FromLat</th>\n",
       "      <th>FromLon</th>\n",
       "    </tr>\n",
       "  </thead>\n",
       "  <tbody>\n",
       "    <tr>\n",
       "      <th>0</th>\n",
       "      <td>20171111Z</td>\n",
       "      <td>71690290-c6bf-11e7-9b04-733c46a7fa80</td>\n",
       "      <td>7</td>\n",
       "      <td>8</td>\n",
       "      <td>-77</td>\n",
       "      <td>34.0</td>\n",
       "      <td>A0:E6:F8:48:62:6A</td>\n",
       "      <td>2017-11-11 09:05:19+0000</td>\n",
       "      <td>GW001085</td>\n",
       "      <td>2017-11-11 08:55:17+0000</td>\n",
       "      <td>...</td>\n",
       "      <td>855752</td>\n",
       "      <td>A0:E6:F8:48:62:6A</td>\n",
       "      <td>113</td>\n",
       "      <td>27-3-2018 11:36</td>\n",
       "      <td>27-3-2018 11:36</td>\n",
       "      <td>-633,719,342,811,063</td>\n",
       "      <td>106,681,715,844,319</td>\n",
       "      <td>626</td>\n",
       "      <td>-633,719,342,811,063</td>\n",
       "      <td>106,681,715,844,319</td>\n",
       "    </tr>\n",
       "    <tr>\n",
       "      <th>1</th>\n",
       "      <td>20171111Z</td>\n",
       "      <td>3c98a040-c6c2-11e7-9b04-733c46a7fa80</td>\n",
       "      <td>7</td>\n",
       "      <td>8</td>\n",
       "      <td>-77</td>\n",
       "      <td>33.5</td>\n",
       "      <td>A0:E6:F8:48:62:6A</td>\n",
       "      <td>2017-11-11 09:25:19+0000</td>\n",
       "      <td>GW001085</td>\n",
       "      <td>2017-11-11 09:25:17+0000</td>\n",
       "      <td>...</td>\n",
       "      <td>855752</td>\n",
       "      <td>A0:E6:F8:48:62:6A</td>\n",
       "      <td>113</td>\n",
       "      <td>27-3-2018 11:36</td>\n",
       "      <td>27-3-2018 11:36</td>\n",
       "      <td>-633,719,342,811,063</td>\n",
       "      <td>106,681,715,844,319</td>\n",
       "      <td>626</td>\n",
       "      <td>-633,719,342,811,063</td>\n",
       "      <td>106,681,715,844,319</td>\n",
       "    </tr>\n",
       "    <tr>\n",
       "      <th>2</th>\n",
       "      <td>20180224Z</td>\n",
       "      <td>03a886b0-197e-11e8-b1b5-0fb4661abe0f</td>\n",
       "      <td>5</td>\n",
       "      <td>6</td>\n",
       "      <td>-80</td>\n",
       "      <td>33.5</td>\n",
       "      <td>CC:78:AB:15:3F:BE</td>\n",
       "      <td>2018-02-24 16:16:03+0000</td>\n",
       "      <td>GW001154</td>\n",
       "      <td>2018-02-24 16:00:44+0000</td>\n",
       "      <td>...</td>\n",
       "      <td>670634</td>\n",
       "      <td>CC:78:AB:15:3F:BE</td>\n",
       "      <td>11893</td>\n",
       "      <td>10-8-2017 12:15</td>\n",
       "      <td>10-8-2017 11:07</td>\n",
       "      <td>519,985,246</td>\n",
       "      <td>42,281,868</td>\n",
       "      <td>672</td>\n",
       "      <td>52,238,390,688,236</td>\n",
       "      <td>61,737,412,753,937</td>\n",
       "    </tr>\n",
       "    <tr>\n",
       "      <th>3</th>\n",
       "      <td>20180224Z</td>\n",
       "      <td>03a886b0-197e-11e8-b1b5-0fb4661abe0f</td>\n",
       "      <td>5</td>\n",
       "      <td>6</td>\n",
       "      <td>-80</td>\n",
       "      <td>33.5</td>\n",
       "      <td>CC:78:AB:15:3F:BE</td>\n",
       "      <td>2018-02-24 16:16:03+0000</td>\n",
       "      <td>GW001154</td>\n",
       "      <td>2018-02-24 16:00:44+0000</td>\n",
       "      <td>...</td>\n",
       "      <td>670702</td>\n",
       "      <td>CC:78:AB:15:3F:BE</td>\n",
       "      <td>11893</td>\n",
       "      <td>10-8-2017 12:20</td>\n",
       "      <td>10-8-2017 12:15</td>\n",
       "      <td>52,238,390,688,236</td>\n",
       "      <td>61,737,412,753,937</td>\n",
       "      <td>605</td>\n",
       "      <td>519,985,246</td>\n",
       "      <td>42,281,868</td>\n",
       "    </tr>\n",
       "    <tr>\n",
       "      <th>4</th>\n",
       "      <td>20180224Z</td>\n",
       "      <td>03a886b0-197e-11e8-b1b5-0fb4661abe0f</td>\n",
       "      <td>5</td>\n",
       "      <td>6</td>\n",
       "      <td>-80</td>\n",
       "      <td>33.5</td>\n",
       "      <td>CC:78:AB:15:3F:BE</td>\n",
       "      <td>2018-02-24 16:16:03+0000</td>\n",
       "      <td>GW001154</td>\n",
       "      <td>2018-02-24 16:00:44+0000</td>\n",
       "      <td>...</td>\n",
       "      <td>851270</td>\n",
       "      <td>CC:78:AB:15:3F:BE</td>\n",
       "      <td>11893</td>\n",
       "      <td>1-3-2018 10:03</td>\n",
       "      <td>1-3-2018 10:00</td>\n",
       "      <td>51,581,011</td>\n",
       "      <td>5,310,742</td>\n",
       "      <td>758</td>\n",
       "      <td>52,238,390,688,236</td>\n",
       "      <td>61,737,412,753,937</td>\n",
       "    </tr>\n",
       "    <tr>\n",
       "      <th>5</th>\n",
       "      <td>20180224Z</td>\n",
       "      <td>03a886b0-197e-11e8-b1b5-0fb4661abe0f</td>\n",
       "      <td>5</td>\n",
       "      <td>6</td>\n",
       "      <td>-80</td>\n",
       "      <td>33.5</td>\n",
       "      <td>CC:78:AB:15:3F:BE</td>\n",
       "      <td>2018-02-24 16:16:03+0000</td>\n",
       "      <td>GW001154</td>\n",
       "      <td>2018-02-24 16:00:44+0000</td>\n",
       "      <td>...</td>\n",
       "      <td>851275</td>\n",
       "      <td>CC:78:AB:15:3F:BE</td>\n",
       "      <td>11893</td>\n",
       "      <td>1-3-2018 10:35</td>\n",
       "      <td>1-3-2018 10:03</td>\n",
       "      <td>522,378,516</td>\n",
       "      <td>617,307,430,000,005</td>\n",
       "      <td>605</td>\n",
       "      <td>51,581,011</td>\n",
       "      <td>5,310,742</td>\n",
       "    </tr>\n",
       "    <tr>\n",
       "      <th>6</th>\n",
       "      <td>20180224Z</td>\n",
       "      <td>a5858430-197c-11e8-b1b5-0fb4661abe0f</td>\n",
       "      <td>5</td>\n",
       "      <td>6</td>\n",
       "      <td>-85</td>\n",
       "      <td>33.5</td>\n",
       "      <td>CC:78:AB:15:3F:BE</td>\n",
       "      <td>2018-02-24 16:06:17+0000</td>\n",
       "      <td>GW001006</td>\n",
       "      <td>2018-02-24 16:00:47+0000</td>\n",
       "      <td>...</td>\n",
       "      <td>670634</td>\n",
       "      <td>CC:78:AB:15:3F:BE</td>\n",
       "      <td>11893</td>\n",
       "      <td>10-8-2017 12:15</td>\n",
       "      <td>10-8-2017 11:07</td>\n",
       "      <td>519,985,246</td>\n",
       "      <td>42,281,868</td>\n",
       "      <td>672</td>\n",
       "      <td>52,238,390,688,236</td>\n",
       "      <td>61,737,412,753,937</td>\n",
       "    </tr>\n",
       "    <tr>\n",
       "      <th>7</th>\n",
       "      <td>20180224Z</td>\n",
       "      <td>a5858430-197c-11e8-b1b5-0fb4661abe0f</td>\n",
       "      <td>5</td>\n",
       "      <td>6</td>\n",
       "      <td>-85</td>\n",
       "      <td>33.5</td>\n",
       "      <td>CC:78:AB:15:3F:BE</td>\n",
       "      <td>2018-02-24 16:06:17+0000</td>\n",
       "      <td>GW001006</td>\n",
       "      <td>2018-02-24 16:00:47+0000</td>\n",
       "      <td>...</td>\n",
       "      <td>670702</td>\n",
       "      <td>CC:78:AB:15:3F:BE</td>\n",
       "      <td>11893</td>\n",
       "      <td>10-8-2017 12:20</td>\n",
       "      <td>10-8-2017 12:15</td>\n",
       "      <td>52,238,390,688,236</td>\n",
       "      <td>61,737,412,753,937</td>\n",
       "      <td>605</td>\n",
       "      <td>519,985,246</td>\n",
       "      <td>42,281,868</td>\n",
       "    </tr>\n",
       "    <tr>\n",
       "      <th>8</th>\n",
       "      <td>20180224Z</td>\n",
       "      <td>a5858430-197c-11e8-b1b5-0fb4661abe0f</td>\n",
       "      <td>5</td>\n",
       "      <td>6</td>\n",
       "      <td>-85</td>\n",
       "      <td>33.5</td>\n",
       "      <td>CC:78:AB:15:3F:BE</td>\n",
       "      <td>2018-02-24 16:06:17+0000</td>\n",
       "      <td>GW001006</td>\n",
       "      <td>2018-02-24 16:00:47+0000</td>\n",
       "      <td>...</td>\n",
       "      <td>851270</td>\n",
       "      <td>CC:78:AB:15:3F:BE</td>\n",
       "      <td>11893</td>\n",
       "      <td>1-3-2018 10:03</td>\n",
       "      <td>1-3-2018 10:00</td>\n",
       "      <td>51,581,011</td>\n",
       "      <td>5,310,742</td>\n",
       "      <td>758</td>\n",
       "      <td>52,238,390,688,236</td>\n",
       "      <td>61,737,412,753,937</td>\n",
       "    </tr>\n",
       "    <tr>\n",
       "      <th>9</th>\n",
       "      <td>20180224Z</td>\n",
       "      <td>a5858430-197c-11e8-b1b5-0fb4661abe0f</td>\n",
       "      <td>5</td>\n",
       "      <td>6</td>\n",
       "      <td>-85</td>\n",
       "      <td>33.5</td>\n",
       "      <td>CC:78:AB:15:3F:BE</td>\n",
       "      <td>2018-02-24 16:06:17+0000</td>\n",
       "      <td>GW001006</td>\n",
       "      <td>2018-02-24 16:00:47+0000</td>\n",
       "      <td>...</td>\n",
       "      <td>851275</td>\n",
       "      <td>CC:78:AB:15:3F:BE</td>\n",
       "      <td>11893</td>\n",
       "      <td>1-3-2018 10:35</td>\n",
       "      <td>1-3-2018 10:03</td>\n",
       "      <td>522,378,516</td>\n",
       "      <td>617,307,430,000,005</td>\n",
       "      <td>605</td>\n",
       "      <td>51,581,011</td>\n",
       "      <td>5,310,742</td>\n",
       "    </tr>\n",
       "  </tbody>\n",
       "</table>\n",
       "<p>10 rows × 21 columns</p>\n",
       "</div>"
      ],
      "text/plain": [
       "  eventtimestamp                                dataid  alertFlags  \\\n",
       "0      20171111Z  71690290-c6bf-11e7-9b04-733c46a7fa80           7   \n",
       "1      20171111Z  3c98a040-c6c2-11e7-9b04-733c46a7fa80           7   \n",
       "2      20180224Z  03a886b0-197e-11e8-b1b5-0fb4661abe0f           5   \n",
       "3      20180224Z  03a886b0-197e-11e8-b1b5-0fb4661abe0f           5   \n",
       "4      20180224Z  03a886b0-197e-11e8-b1b5-0fb4661abe0f           5   \n",
       "5      20180224Z  03a886b0-197e-11e8-b1b5-0fb4661abe0f           5   \n",
       "6      20180224Z  a5858430-197c-11e8-b1b5-0fb4661abe0f           5   \n",
       "7      20180224Z  a5858430-197c-11e8-b1b5-0fb4661abe0f           5   \n",
       "8      20180224Z  a5858430-197c-11e8-b1b5-0fb4661abe0f           5   \n",
       "9      20180224Z  a5858430-197c-11e8-b1b5-0fb4661abe0f           5   \n",
       "\n",
       "   batteryLevel  signalStrength  temperature         macaddress  \\\n",
       "0             8             -77         34.0  A0:E6:F8:48:62:6A   \n",
       "1             8             -77         33.5  A0:E6:F8:48:62:6A   \n",
       "2             6             -80         33.5  CC:78:AB:15:3F:BE   \n",
       "3             6             -80         33.5  CC:78:AB:15:3F:BE   \n",
       "4             6             -80         33.5  CC:78:AB:15:3F:BE   \n",
       "5             6             -80         33.5  CC:78:AB:15:3F:BE   \n",
       "6             6             -85         33.5  CC:78:AB:15:3F:BE   \n",
       "7             6             -85         33.5  CC:78:AB:15:3F:BE   \n",
       "8             6             -85         33.5  CC:78:AB:15:3F:BE   \n",
       "9             6             -85         33.5  CC:78:AB:15:3F:BE   \n",
       "\n",
       "          timestampgateway1 gatewayid1          messagetimestamp  ...      id  \\\n",
       "0  2017-11-11 09:05:19+0000   GW001085  2017-11-11 08:55:17+0000  ...  855752   \n",
       "1  2017-11-11 09:25:19+0000   GW001085  2017-11-11 09:25:17+0000  ...  855752   \n",
       "2  2018-02-24 16:16:03+0000   GW001154  2018-02-24 16:00:44+0000  ...  670634   \n",
       "3  2018-02-24 16:16:03+0000   GW001154  2018-02-24 16:00:44+0000  ...  670702   \n",
       "4  2018-02-24 16:16:03+0000   GW001154  2018-02-24 16:00:44+0000  ...  851270   \n",
       "5  2018-02-24 16:16:03+0000   GW001154  2018-02-24 16:00:44+0000  ...  851275   \n",
       "6  2018-02-24 16:06:17+0000   GW001006  2018-02-24 16:00:47+0000  ...  670634   \n",
       "7  2018-02-24 16:06:17+0000   GW001006  2018-02-24 16:00:47+0000  ...  670702   \n",
       "8  2018-02-24 16:06:17+0000   GW001006  2018-02-24 16:00:47+0000  ...  851270   \n",
       "9  2018-02-24 16:06:17+0000   GW001006  2018-02-24 16:00:47+0000  ...  851275   \n",
       "\n",
       "         macaddress2 asssetid      arrivalTime    DepartureTime  \\\n",
       "0  A0:E6:F8:48:62:6A      113  27-3-2018 11:36  27-3-2018 11:36   \n",
       "1  A0:E6:F8:48:62:6A      113  27-3-2018 11:36  27-3-2018 11:36   \n",
       "2  CC:78:AB:15:3F:BE    11893  10-8-2017 12:15  10-8-2017 11:07   \n",
       "3  CC:78:AB:15:3F:BE    11893  10-8-2017 12:20  10-8-2017 12:15   \n",
       "4  CC:78:AB:15:3F:BE    11893   1-3-2018 10:03   1-3-2018 10:00   \n",
       "5  CC:78:AB:15:3F:BE    11893   1-3-2018 10:35   1-3-2018 10:03   \n",
       "6  CC:78:AB:15:3F:BE    11893  10-8-2017 12:15  10-8-2017 11:07   \n",
       "7  CC:78:AB:15:3F:BE    11893  10-8-2017 12:20  10-8-2017 12:15   \n",
       "8  CC:78:AB:15:3F:BE    11893   1-3-2018 10:03   1-3-2018 10:00   \n",
       "9  CC:78:AB:15:3F:BE    11893   1-3-2018 10:35   1-3-2018 10:03   \n",
       "\n",
       "                  ToLat                ToLon ToSite               FromLat  \\\n",
       "0  -633,719,342,811,063  106,681,715,844,319    626  -633,719,342,811,063   \n",
       "1  -633,719,342,811,063  106,681,715,844,319    626  -633,719,342,811,063   \n",
       "2           519,985,246           42,281,868    672    52,238,390,688,236   \n",
       "3    52,238,390,688,236   61,737,412,753,937    605           519,985,246   \n",
       "4            51,581,011            5,310,742    758    52,238,390,688,236   \n",
       "5           522,378,516  617,307,430,000,005    605            51,581,011   \n",
       "6           519,985,246           42,281,868    672    52,238,390,688,236   \n",
       "7    52,238,390,688,236   61,737,412,753,937    605           519,985,246   \n",
       "8            51,581,011            5,310,742    758    52,238,390,688,236   \n",
       "9           522,378,516  617,307,430,000,005    605            51,581,011   \n",
       "\n",
       "               FromLon  \n",
       "0  106,681,715,844,319  \n",
       "1  106,681,715,844,319  \n",
       "2   61,737,412,753,937  \n",
       "3           42,281,868  \n",
       "4   61,737,412,753,937  \n",
       "5            5,310,742  \n",
       "6   61,737,412,753,937  \n",
       "7           42,281,868  \n",
       "8   61,737,412,753,937  \n",
       "9            5,310,742  \n",
       "\n",
       "[10 rows x 21 columns]"
      ]
     },
     "execution_count": 3,
     "metadata": {},
     "output_type": "execute_result"
    }
   ],
   "source": [
    "df = pd.read_csv('Data-Result-5.csv', sep=';')\n",
    "df.head(10)"
   ]
  },
  {
   "cell_type": "code",
   "execution_count": 4,
   "id": "together-sacramento",
   "metadata": {},
   "outputs": [
    {
     "name": "stdout",
     "output_type": "stream",
     "text": [
      "<class 'pandas.core.frame.DataFrame'>\n",
      "RangeIndex: 987776 entries, 0 to 987775\n",
      "Data columns (total 21 columns):\n",
      " #   Column             Non-Null Count   Dtype  \n",
      "---  ------             --------------   -----  \n",
      " 0   eventtimestamp     987776 non-null  object \n",
      " 1   dataid             987776 non-null  object \n",
      " 2   alertFlags         987776 non-null  int64  \n",
      " 3   batteryLevel       987776 non-null  int64  \n",
      " 4   signalStrength     987776 non-null  int64  \n",
      " 5   temperature        987776 non-null  float64\n",
      " 6   macaddress         987776 non-null  object \n",
      " 7   timestampgateway1  987776 non-null  object \n",
      " 8   gatewayid1         987776 non-null  object \n",
      " 9   messagetimestamp   987776 non-null  object \n",
      " 10  assetid            987776 non-null  int64  \n",
      " 11  id                 987776 non-null  int64  \n",
      " 12  macaddress2        987776 non-null  object \n",
      " 13  asssetid           987776 non-null  int64  \n",
      " 14  arrivalTime        987776 non-null  object \n",
      " 15  DepartureTime      987776 non-null  object \n",
      " 16  ToLat              987776 non-null  object \n",
      " 17  ToLon              987776 non-null  object \n",
      " 18  ToSite             987776 non-null  int64  \n",
      " 19  FromLat            987776 non-null  object \n",
      " 20  FromLon            987776 non-null  object \n",
      "dtypes: float64(1), int64(7), object(13)\n",
      "memory usage: 158.3+ MB\n"
     ]
    }
   ],
   "source": [
    "df.info()"
   ]
  },
  {
   "cell_type": "code",
   "execution_count": 5,
   "id": "swiss-postage",
   "metadata": {},
   "outputs": [
    {
     "data": {
      "text/html": [
       "<div>\n",
       "<style scoped>\n",
       "    .dataframe tbody tr th:only-of-type {\n",
       "        vertical-align: middle;\n",
       "    }\n",
       "\n",
       "    .dataframe tbody tr th {\n",
       "        vertical-align: top;\n",
       "    }\n",
       "\n",
       "    .dataframe thead th {\n",
       "        text-align: right;\n",
       "    }\n",
       "</style>\n",
       "<table border=\"1\" class=\"dataframe\">\n",
       "  <thead>\n",
       "    <tr style=\"text-align: right;\">\n",
       "      <th></th>\n",
       "      <th>alertFlags</th>\n",
       "      <th>batteryLevel</th>\n",
       "      <th>signalStrength</th>\n",
       "      <th>temperature</th>\n",
       "      <th>assetid</th>\n",
       "      <th>id</th>\n",
       "      <th>asssetid</th>\n",
       "      <th>ToSite</th>\n",
       "    </tr>\n",
       "  </thead>\n",
       "  <tbody>\n",
       "    <tr>\n",
       "      <th>count</th>\n",
       "      <td>987776.000000</td>\n",
       "      <td>987776.000000</td>\n",
       "      <td>987776.000000</td>\n",
       "      <td>987776.000000</td>\n",
       "      <td>987776.000000</td>\n",
       "      <td>987776.000000</td>\n",
       "      <td>987776.000000</td>\n",
       "      <td>987776.000000</td>\n",
       "    </tr>\n",
       "    <tr>\n",
       "      <th>mean</th>\n",
       "      <td>2.882877</td>\n",
       "      <td>3.882877</td>\n",
       "      <td>-78.206575</td>\n",
       "      <td>16.259540</td>\n",
       "      <td>5025.326175</td>\n",
       "      <td>789509.505483</td>\n",
       "      <td>5025.326175</td>\n",
       "      <td>666.587250</td>\n",
       "    </tr>\n",
       "    <tr>\n",
       "      <th>std</th>\n",
       "      <td>2.108089</td>\n",
       "      <td>2.108089</td>\n",
       "      <td>10.526921</td>\n",
       "      <td>4.619252</td>\n",
       "      <td>12442.385114</td>\n",
       "      <td>167996.941161</td>\n",
       "      <td>12442.385114</td>\n",
       "      <td>65.571312</td>\n",
       "    </tr>\n",
       "    <tr>\n",
       "      <th>min</th>\n",
       "      <td>0.000000</td>\n",
       "      <td>1.000000</td>\n",
       "      <td>-99.000000</td>\n",
       "      <td>-8.500000</td>\n",
       "      <td>1.000000</td>\n",
       "      <td>361.000000</td>\n",
       "      <td>1.000000</td>\n",
       "      <td>605.000000</td>\n",
       "    </tr>\n",
       "    <tr>\n",
       "      <th>25%</th>\n",
       "      <td>1.000000</td>\n",
       "      <td>2.000000</td>\n",
       "      <td>-86.000000</td>\n",
       "      <td>13.500000</td>\n",
       "      <td>109.000000</td>\n",
       "      <td>830278.000000</td>\n",
       "      <td>109.000000</td>\n",
       "      <td>605.000000</td>\n",
       "    </tr>\n",
       "    <tr>\n",
       "      <th>50%</th>\n",
       "      <td>3.000000</td>\n",
       "      <td>4.000000</td>\n",
       "      <td>-80.000000</td>\n",
       "      <td>15.500000</td>\n",
       "      <td>141.000000</td>\n",
       "      <td>838769.000000</td>\n",
       "      <td>141.000000</td>\n",
       "      <td>615.000000</td>\n",
       "    </tr>\n",
       "    <tr>\n",
       "      <th>75%</th>\n",
       "      <td>5.000000</td>\n",
       "      <td>6.000000</td>\n",
       "      <td>-72.000000</td>\n",
       "      <td>20.000000</td>\n",
       "      <td>647.000000</td>\n",
       "      <td>841880.000000</td>\n",
       "      <td>647.000000</td>\n",
       "      <td>743.000000</td>\n",
       "    </tr>\n",
       "    <tr>\n",
       "      <th>max</th>\n",
       "      <td>7.000000</td>\n",
       "      <td>8.000000</td>\n",
       "      <td>-31.000000</td>\n",
       "      <td>34.000000</td>\n",
       "      <td>68252.000000</td>\n",
       "      <td>858350.000000</td>\n",
       "      <td>68252.000000</td>\n",
       "      <td>767.000000</td>\n",
       "    </tr>\n",
       "  </tbody>\n",
       "</table>\n",
       "</div>"
      ],
      "text/plain": [
       "          alertFlags   batteryLevel  signalStrength    temperature  \\\n",
       "count  987776.000000  987776.000000   987776.000000  987776.000000   \n",
       "mean        2.882877       3.882877      -78.206575      16.259540   \n",
       "std         2.108089       2.108089       10.526921       4.619252   \n",
       "min         0.000000       1.000000      -99.000000      -8.500000   \n",
       "25%         1.000000       2.000000      -86.000000      13.500000   \n",
       "50%         3.000000       4.000000      -80.000000      15.500000   \n",
       "75%         5.000000       6.000000      -72.000000      20.000000   \n",
       "max         7.000000       8.000000      -31.000000      34.000000   \n",
       "\n",
       "             assetid             id       asssetid         ToSite  \n",
       "count  987776.000000  987776.000000  987776.000000  987776.000000  \n",
       "mean     5025.326175  789509.505483    5025.326175     666.587250  \n",
       "std     12442.385114  167996.941161   12442.385114      65.571312  \n",
       "min         1.000000     361.000000       1.000000     605.000000  \n",
       "25%       109.000000  830278.000000     109.000000     605.000000  \n",
       "50%       141.000000  838769.000000     141.000000     615.000000  \n",
       "75%       647.000000  841880.000000     647.000000     743.000000  \n",
       "max     68252.000000  858350.000000   68252.000000     767.000000  "
      ]
     },
     "execution_count": 5,
     "metadata": {},
     "output_type": "execute_result"
    }
   ],
   "source": [
    "df.describe()"
   ]
  },
  {
   "cell_type": "code",
   "execution_count": 6,
   "id": "affected-senegal",
   "metadata": {},
   "outputs": [
    {
     "data": {
      "text/plain": [
       "0"
      ]
     },
     "execution_count": 6,
     "metadata": {},
     "output_type": "execute_result"
    }
   ],
   "source": [
    "df.duplicated().sum()"
   ]
  },
  {
   "cell_type": "code",
   "execution_count": 7,
   "id": "prescription-blast",
   "metadata": {},
   "outputs": [
    {
     "name": "stderr",
     "output_type": "stream",
     "text": [
      "c:\\python38\\lib\\site-packages\\seaborn\\_decorators.py:36: FutureWarning: Pass the following variable as a keyword arg: x. From version 0.12, the only valid positional argument will be `data`, and passing other arguments without an explicit keyword will result in an error or misinterpretation.\n",
      "  warnings.warn(\n"
     ]
    },
    {
     "ename": "AttributeError",
     "evalue": "'AxesSubplot' object has no attribute 'unique'",
     "output_type": "error",
     "traceback": [
      "\u001b[1;31m---------------------------------------------------------------------------\u001b[0m",
      "\u001b[1;31mAttributeError\u001b[0m                            Traceback (most recent call last)",
      "\u001b[1;32m<ipython-input-7-724e96809e88>\u001b[0m in \u001b[0;36m<module>\u001b[1;34m\u001b[0m\n\u001b[0;32m      1\u001b[0m \u001b[1;31m#Plot the unique values\u001b[0m\u001b[1;33m\u001b[0m\u001b[1;33m\u001b[0m\u001b[1;33m\u001b[0m\u001b[0m\n\u001b[0;32m      2\u001b[0m \u001b[1;33m\u001b[0m\u001b[0m\n\u001b[1;32m----> 3\u001b[1;33m \u001b[0msns\u001b[0m\u001b[1;33m.\u001b[0m\u001b[0mcountplot\u001b[0m\u001b[1;33m(\u001b[0m\u001b[0mdf\u001b[0m\u001b[1;33m[\u001b[0m\u001b[1;34m'alertFlags'\u001b[0m\u001b[1;33m]\u001b[0m\u001b[1;33m)\u001b[0m\u001b[1;33m.\u001b[0m\u001b[0munique\u001b[0m\u001b[1;33m(\u001b[0m\u001b[1;33m)\u001b[0m\u001b[1;33m\u001b[0m\u001b[1;33m\u001b[0m\u001b[0m\n\u001b[0m",
      "\u001b[1;31mAttributeError\u001b[0m: 'AxesSubplot' object has no attribute 'unique'"
     ]
    },
    {
     "data": {
      "image/png": "[encoded data removed]",
      "text/plain": [
       "<Figure size 432x288 with 1 Axes>"
      ]
     },
     "metadata": {},
     "output_type": "display_data"
    }
   ],
   "source": [
    "#Plot the unique values\n",
    " \n",
    "sns.countplot(df['alertFlags']).unique()"
   ]
  },
  {
   "cell_type": "code",
   "execution_count": 8,
   "id": "virtual-neighbor",
   "metadata": {},
   "outputs": [
    {
     "name": "stderr",
     "output_type": "stream",
     "text": [
      "c:\\python38\\lib\\site-packages\\seaborn\\_decorators.py:36: FutureWarning: Pass the following variable as a keyword arg: x. From version 0.12, the only valid positional argument will be `data`, and passing other arguments without an explicit keyword will result in an error or misinterpretation.\n",
      "  warnings.warn(\n"
     ]
    },
    {
     "ename": "AttributeError",
     "evalue": "'AxesSubplot' object has no attribute 'unique'",
     "output_type": "error",
     "traceback": [
      "\u001b[1;31m---------------------------------------------------------------------------\u001b[0m",
      "\u001b[1;31mAttributeError\u001b[0m                            Traceback (most recent call last)",
      "\u001b[1;32m<ipython-input-8-3cc13756db17>\u001b[0m in \u001b[0;36m<module>\u001b[1;34m\u001b[0m\n\u001b[0;32m      1\u001b[0m \u001b[1;31m#Plot the unique values\u001b[0m\u001b[1;33m\u001b[0m\u001b[1;33m\u001b[0m\u001b[1;33m\u001b[0m\u001b[0m\n\u001b[0;32m      2\u001b[0m \u001b[1;33m\u001b[0m\u001b[0m\n\u001b[1;32m----> 3\u001b[1;33m \u001b[0msns\u001b[0m\u001b[1;33m.\u001b[0m\u001b[0mcountplot\u001b[0m\u001b[1;33m(\u001b[0m\u001b[0mdf\u001b[0m\u001b[1;33m[\u001b[0m\u001b[1;34m'batteryLevel'\u001b[0m\u001b[1;33m]\u001b[0m\u001b[1;33m)\u001b[0m\u001b[1;33m.\u001b[0m\u001b[0munique\u001b[0m\u001b[1;33m(\u001b[0m\u001b[1;33m)\u001b[0m\u001b[1;33m\u001b[0m\u001b[1;33m\u001b[0m\u001b[0m\n\u001b[0m",
      "\u001b[1;31mAttributeError\u001b[0m: 'AxesSubplot' object has no attribute 'unique'"
     ]
    },
    {
     "data": {
      "image/png": "[encoded data removed]",
      "text/plain": [
       "<Figure size 432x288 with 1 Axes>"
      ]
     },
     "metadata": {},
     "output_type": "display_data"
    }
   ],
   "source": [
    "#Plot the unique values\n",
    " \n",
    "sns.countplot(df['batteryLevel']).unique()"
   ]
  },
  {
   "cell_type": "code",
   "execution_count": 22,
   "id": "charitable-laser",
   "metadata": {},
   "outputs": [
    {
     "data": {
      "text/plain": [
       "<AxesSubplot:>"
      ]
     },
     "execution_count": 22,
     "metadata": {},
     "output_type": "execute_result"
    },
    {
     "data": {
      "image/png": "[encoded data removed]",
      "text/plain": [
       "<Figure size 432x288 with 1 Axes>"
      ]
     },
     "metadata": {},
     "output_type": "display_data"
    }
   ],
   "source": [
    "#Boxplot\n",
    " \n",
    "df[['alertFlags']].boxplot()"
   ]
  },
  {
   "cell_type": "code",
   "execution_count": 23,
   "id": "green-building",
   "metadata": {},
   "outputs": [
    {
     "data": {
      "text/plain": [
       "<AxesSubplot:>"
      ]
     },
     "execution_count": 23,
     "metadata": {},
     "output_type": "execute_result"
    },
    {
     "data": {
      "image/png": "[encoded data removed]",
      "text/plain": [
       "<Figure size 432x288 with 1 Axes>"
      ]
     },
     "metadata": {},
     "output_type": "display_data"
    }
   ],
   "source": [
    "#Boxplot\n",
    " \n",
    "df[['batteryLevel']].boxplot()"
   ]
  },
  {
   "cell_type": "code",
   "execution_count": 24,
   "id": "rental-rwanda",
   "metadata": {},
   "outputs": [
    {
     "data": {
      "text/plain": [
       "<AxesSubplot:>"
      ]
     },
     "execution_count": 24,
     "metadata": {},
     "output_type": "execute_result"
    },
    {
     "data": {
      "image/png": "[encoded data removed]",
      "text/plain": [
       "<Figure size 432x288 with 1 Axes>"
      ]
     },
     "metadata": {},
     "output_type": "display_data"
    }
   ],
   "source": [
    "#Boxplot\n",
    " \n",
    "df[['signalStrength']].boxplot()"
   ]
  },
  {
   "cell_type": "code",
   "execution_count": 25,
   "id": "czech-administration",
   "metadata": {},
   "outputs": [
    {
     "data": {
      "text/plain": [
       "<AxesSubplot:>"
      ]
     },
     "execution_count": 25,
     "metadata": {},
     "output_type": "execute_result"
    },
    {
     "data": {
      "image/png": "[encoded data removed]",
      "text/plain": [
       "<Figure size 432x288 with 1 Axes>"
      ]
     },
     "metadata": {},
     "output_type": "display_data"
    }
   ],
   "source": [
    "#Boxplot\n",
    " \n",
    "df[['temperature']].boxplot()"
   ]
  },
  {
   "cell_type": "code",
   "execution_count": 26,
   "id": "cubic-overview",
   "metadata": {},
   "outputs": [
    {
     "data": {
      "text/html": [
       "<div>\n",
       "<style scoped>\n",
       "    .dataframe tbody tr th:only-of-type {\n",
       "        vertical-align: middle;\n",
       "    }\n",
       "\n",
       "    .dataframe tbody tr th {\n",
       "        vertical-align: top;\n",
       "    }\n",
       "\n",
       "    .dataframe thead th {\n",
       "        text-align: right;\n",
       "    }\n",
       "</style>\n",
       "<table border=\"1\" class=\"dataframe\">\n",
       "  <thead>\n",
       "    <tr style=\"text-align: right;\">\n",
       "      <th></th>\n",
       "      <th>alertFlags</th>\n",
       "      <th>batteryLevel</th>\n",
       "      <th>signalStrength</th>\n",
       "      <th>temperature</th>\n",
       "      <th>assetid</th>\n",
       "      <th>id</th>\n",
       "      <th>asssetid</th>\n",
       "      <th>ToSite</th>\n",
       "    </tr>\n",
       "  </thead>\n",
       "  <tbody>\n",
       "    <tr>\n",
       "      <th>alertFlags</th>\n",
       "      <td>1.000000</td>\n",
       "      <td>1.000000</td>\n",
       "      <td>-0.031271</td>\n",
       "      <td>-0.007127</td>\n",
       "      <td>-0.379452</td>\n",
       "      <td>0.081330</td>\n",
       "      <td>-0.379452</td>\n",
       "      <td>0.036659</td>\n",
       "    </tr>\n",
       "    <tr>\n",
       "      <th>batteryLevel</th>\n",
       "      <td>1.000000</td>\n",
       "      <td>1.000000</td>\n",
       "      <td>-0.031271</td>\n",
       "      <td>-0.007127</td>\n",
       "      <td>-0.379452</td>\n",
       "      <td>0.081330</td>\n",
       "      <td>-0.379452</td>\n",
       "      <td>0.036659</td>\n",
       "    </tr>\n",
       "    <tr>\n",
       "      <th>signalStrength</th>\n",
       "      <td>-0.031271</td>\n",
       "      <td>-0.031271</td>\n",
       "      <td>1.000000</td>\n",
       "      <td>-0.042559</td>\n",
       "      <td>0.077189</td>\n",
       "      <td>-0.085415</td>\n",
       "      <td>0.077189</td>\n",
       "      <td>-0.070039</td>\n",
       "    </tr>\n",
       "    <tr>\n",
       "      <th>temperature</th>\n",
       "      <td>-0.007127</td>\n",
       "      <td>-0.007127</td>\n",
       "      <td>-0.042559</td>\n",
       "      <td>1.000000</td>\n",
       "      <td>-0.166300</td>\n",
       "      <td>-0.116460</td>\n",
       "      <td>-0.166300</td>\n",
       "      <td>-0.047082</td>\n",
       "    </tr>\n",
       "    <tr>\n",
       "      <th>assetid</th>\n",
       "      <td>-0.379452</td>\n",
       "      <td>-0.379452</td>\n",
       "      <td>0.077189</td>\n",
       "      <td>-0.166300</td>\n",
       "      <td>1.000000</td>\n",
       "      <td>-0.091654</td>\n",
       "      <td>1.000000</td>\n",
       "      <td>-0.028903</td>\n",
       "    </tr>\n",
       "    <tr>\n",
       "      <th>id</th>\n",
       "      <td>0.081330</td>\n",
       "      <td>0.081330</td>\n",
       "      <td>-0.085415</td>\n",
       "      <td>-0.116460</td>\n",
       "      <td>-0.091654</td>\n",
       "      <td>1.000000</td>\n",
       "      <td>-0.091654</td>\n",
       "      <td>0.169139</td>\n",
       "    </tr>\n",
       "    <tr>\n",
       "      <th>asssetid</th>\n",
       "      <td>-0.379452</td>\n",
       "      <td>-0.379452</td>\n",
       "      <td>0.077189</td>\n",
       "      <td>-0.166300</td>\n",
       "      <td>1.000000</td>\n",
       "      <td>-0.091654</td>\n",
       "      <td>1.000000</td>\n",
       "      <td>-0.028903</td>\n",
       "    </tr>\n",
       "    <tr>\n",
       "      <th>ToSite</th>\n",
       "      <td>0.036659</td>\n",
       "      <td>0.036659</td>\n",
       "      <td>-0.070039</td>\n",
       "      <td>-0.047082</td>\n",
       "      <td>-0.028903</td>\n",
       "      <td>0.169139</td>\n",
       "      <td>-0.028903</td>\n",
       "      <td>1.000000</td>\n",
       "    </tr>\n",
       "  </tbody>\n",
       "</table>\n",
       "</div>"
      ],
      "text/plain": [
       "                alertFlags  batteryLevel  signalStrength  temperature  \\\n",
       "alertFlags        1.000000      1.000000       -0.031271    -0.007127   \n",
       "batteryLevel      1.000000      1.000000       -0.031271    -0.007127   \n",
       "signalStrength   -0.031271     -0.031271        1.000000    -0.042559   \n",
       "temperature      -0.007127     -0.007127       -0.042559     1.000000   \n",
       "assetid          -0.379452     -0.379452        0.077189    -0.166300   \n",
       "id                0.081330      0.081330       -0.085415    -0.116460   \n",
       "asssetid         -0.379452     -0.379452        0.077189    -0.166300   \n",
       "ToSite            0.036659      0.036659       -0.070039    -0.047082   \n",
       "\n",
       "                 assetid        id  asssetid    ToSite  \n",
       "alertFlags     -0.379452  0.081330 -0.379452  0.036659  \n",
       "batteryLevel   -0.379452  0.081330 -0.379452  0.036659  \n",
       "signalStrength  0.077189 -0.085415  0.077189 -0.070039  \n",
       "temperature    -0.166300 -0.116460 -0.166300 -0.047082  \n",
       "assetid         1.000000 -0.091654  1.000000 -0.028903  \n",
       "id             -0.091654  1.000000 -0.091654  0.169139  \n",
       "asssetid        1.000000 -0.091654  1.000000 -0.028903  \n",
       "ToSite         -0.028903  0.169139 -0.028903  1.000000  "
      ]
     },
     "execution_count": 26,
     "metadata": {},
     "output_type": "execute_result"
    }
   ],
   "source": [
    "df.corr()"
   ]
  },
  {
   "cell_type": "code",
   "execution_count": 27,
   "id": "experimental-bhutan",
   "metadata": {},
   "outputs": [
    {
     "data": {
      "text/plain": [
       "<AxesSubplot:>"
      ]
     },
     "execution_count": 27,
     "metadata": {},
     "output_type": "execute_result"
    },
    {
     "data": {
      "image/png": "[encoded data removed]",
      "text/plain": [
       "<Figure size 432x288 with 2 Axes>"
      ]
     },
     "metadata": {},
     "output_type": "display_data"
    }
   ],
   "source": [
    "#Correlation plot\n",
    " \n",
    "sns.heatmap(df.corr())"
   ]
  },
  {
   "cell_type": "code",
   "execution_count": null,
   "id": "broadband-piece",
   "metadata": {},
   "outputs": [],
   "source": []
  }
 ],
 "metadata": {
  "kernelspec": {
   "display_name": "Python 3 (ipykernel)",
   "language": "python",
   "name": "python3"
  },
  "language_info": {
   "codemirror_mode": {
    "name": "ipython",
    "version": 3
   },
   "file_extension": ".py",
   "mimetype": "text/x-python",
   "name": "python",
   "nbconvert_exporter": "python",
   "pygments_lexer": "ipython3",
   "version": "3.8.0"
  }
 },
 "nbformat": 4,
 "nbformat_minor": 5
}
