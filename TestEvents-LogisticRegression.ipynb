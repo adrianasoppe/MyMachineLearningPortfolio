{
 "cells": [
  {
   "cell_type": "code",
   "execution_count": 1,
   "id": "d7ab0aff-4dea-4008-b1fb-6d2b024d5197",
   "metadata": {},
   "outputs": [],
   "source": [
    "import pandas as pd"
   ]
  },
  {
   "cell_type": "code",
   "execution_count": 2,
   "id": "7e0ae966-0c9b-48a1-ac2d-ef92d0315f13",
   "metadata": {},
   "outputs": [],
   "source": [
    "import numpy as np"
   ]
  },
  {
   "cell_type": "code",
   "execution_count": 3,
   "id": "090e0764-44b3-4b81-bb29-d94c54ae2472",
   "metadata": {},
   "outputs": [],
   "source": [
    "import seaborn as sns "
   ]
  },
  {
   "cell_type": "code",
   "execution_count": 4,
   "id": "3b56c10d-62cb-4d4c-b14d-d25214152d9a",
   "metadata": {},
   "outputs": [],
   "source": [
    "import matplotlib.pyplot as plt"
   ]
  },
  {
   "cell_type": "code",
   "execution_count": 5,
   "id": "f692978a-d6bc-4e80-bc70-a41f8ebe0841",
   "metadata": {},
   "outputs": [],
   "source": [
    "%matplotlib inline"
   ]
  },
  {
   "cell_type": "code",
   "execution_count": 6,
   "id": "81a05b18-a1c6-4ce9-85a8-c6fcaa41c145",
   "metadata": {},
   "outputs": [],
   "source": [
    "events1 = pd.read_csv('EventsTest.csv', sep=';')"
   ]
  },
  {
   "cell_type": "code",
   "execution_count": 7,
   "id": "1f2e9063-9071-408d-8941-409daa6b54d0",
   "metadata": {},
   "outputs": [
    {
     "data": {
      "text/html": [
       "<div>\n",
       "<style scoped>\n",
       "    .dataframe tbody tr th:only-of-type {\n",
       "        vertical-align: middle;\n",
       "    }\n",
       "\n",
       "    .dataframe tbody tr th {\n",
       "        vertical-align: top;\n",
       "    }\n",
       "\n",
       "    .dataframe thead th {\n",
       "        text-align: right;\n",
       "    }\n",
       "</style>\n",
       "<table border=\"1\" class=\"dataframe\">\n",
       "  <thead>\n",
       "    <tr style=\"text-align: right;\">\n",
       "      <th></th>\n",
       "      <th>eventtimestamp</th>\n",
       "      <th>dataid</th>\n",
       "      <th>alertFlags</th>\n",
       "      <th>batteryLevel</th>\n",
       "      <th>signalStrength</th>\n",
       "      <th>temperature</th>\n",
       "      <th>macaddress</th>\n",
       "      <th>timestampgateway1</th>\n",
       "      <th>gatewayid1</th>\n",
       "      <th>messagetimestamp</th>\n",
       "      <th>...</th>\n",
       "      <th>id</th>\n",
       "      <th>macaddress2</th>\n",
       "      <th>asssetid</th>\n",
       "      <th>arrivalTime</th>\n",
       "      <th>DepartureTime</th>\n",
       "      <th>ToLat</th>\n",
       "      <th>ToLon</th>\n",
       "      <th>ToSite</th>\n",
       "      <th>FromLat</th>\n",
       "      <th>FromLon</th>\n",
       "    </tr>\n",
       "  </thead>\n",
       "  <tbody>\n",
       "    <tr>\n",
       "      <th>0</th>\n",
       "      <td>20171111Z</td>\n",
       "      <td>71690290-c6bf-11e7-9b04-733c46a7fa80</td>\n",
       "      <td>7</td>\n",
       "      <td>8</td>\n",
       "      <td>-77</td>\n",
       "      <td>34.0</td>\n",
       "      <td>A0:E6:F8:48:62:6A</td>\n",
       "      <td>2017-11-11 09:05:19+0000</td>\n",
       "      <td>GW001085</td>\n",
       "      <td>2017-11-11 08:55:17+0000</td>\n",
       "      <td>...</td>\n",
       "      <td>855752</td>\n",
       "      <td>A0:E6:F8:48:62:6A</td>\n",
       "      <td>113</td>\n",
       "      <td>27-3-2018 11:36</td>\n",
       "      <td>27-3-2018 11:36</td>\n",
       "      <td>-633,719,342,811,063</td>\n",
       "      <td>106,681,715,844,319</td>\n",
       "      <td>626</td>\n",
       "      <td>-633,719,342,811,063</td>\n",
       "      <td>106,681,715,844,319</td>\n",
       "    </tr>\n",
       "    <tr>\n",
       "      <th>1</th>\n",
       "      <td>20171111Z</td>\n",
       "      <td>3c98a040-c6c2-11e7-9b04-733c46a7fa80</td>\n",
       "      <td>7</td>\n",
       "      <td>8</td>\n",
       "      <td>-77</td>\n",
       "      <td>33.5</td>\n",
       "      <td>A0:E6:F8:48:62:6A</td>\n",
       "      <td>2017-11-11 09:25:19+0000</td>\n",
       "      <td>GW001085</td>\n",
       "      <td>2017-11-11 09:25:17+0000</td>\n",
       "      <td>...</td>\n",
       "      <td>855752</td>\n",
       "      <td>A0:E6:F8:48:62:6A</td>\n",
       "      <td>113</td>\n",
       "      <td>27-3-2018 11:36</td>\n",
       "      <td>27-3-2018 11:36</td>\n",
       "      <td>-633,719,342,811,063</td>\n",
       "      <td>106,681,715,844,319</td>\n",
       "      <td>626</td>\n",
       "      <td>-633,719,342,811,063</td>\n",
       "      <td>106,681,715,844,319</td>\n",
       "    </tr>\n",
       "    <tr>\n",
       "      <th>2</th>\n",
       "      <td>20180224Z</td>\n",
       "      <td>03a886b0-197e-11e8-b1b5-0fb4661abe0f</td>\n",
       "      <td>5</td>\n",
       "      <td>6</td>\n",
       "      <td>-80</td>\n",
       "      <td>33.5</td>\n",
       "      <td>CC:78:AB:15:3F:BE</td>\n",
       "      <td>2018-02-24 16:16:03+0000</td>\n",
       "      <td>GW001154</td>\n",
       "      <td>2018-02-24 16:00:44+0000</td>\n",
       "      <td>...</td>\n",
       "      <td>670634</td>\n",
       "      <td>CC:78:AB:15:3F:BE</td>\n",
       "      <td>11893</td>\n",
       "      <td>10-8-2017 12:15</td>\n",
       "      <td>10-8-2017 11:07</td>\n",
       "      <td>519,985,246</td>\n",
       "      <td>42,281,868</td>\n",
       "      <td>672</td>\n",
       "      <td>52,238,390,688,236</td>\n",
       "      <td>61,737,412,753,937</td>\n",
       "    </tr>\n",
       "    <tr>\n",
       "      <th>3</th>\n",
       "      <td>20180224Z</td>\n",
       "      <td>03a886b0-197e-11e8-b1b5-0fb4661abe0f</td>\n",
       "      <td>5</td>\n",
       "      <td>6</td>\n",
       "      <td>-80</td>\n",
       "      <td>33.5</td>\n",
       "      <td>CC:78:AB:15:3F:BE</td>\n",
       "      <td>2018-02-24 16:16:03+0000</td>\n",
       "      <td>GW001154</td>\n",
       "      <td>2018-02-24 16:00:44+0000</td>\n",
       "      <td>...</td>\n",
       "      <td>670702</td>\n",
       "      <td>CC:78:AB:15:3F:BE</td>\n",
       "      <td>11893</td>\n",
       "      <td>10-8-2017 12:20</td>\n",
       "      <td>10-8-2017 12:15</td>\n",
       "      <td>52,238,390,688,236</td>\n",
       "      <td>61,737,412,753,937</td>\n",
       "      <td>605</td>\n",
       "      <td>519,985,246</td>\n",
       "      <td>42,281,868</td>\n",
       "    </tr>\n",
       "    <tr>\n",
       "      <th>4</th>\n",
       "      <td>20180224Z</td>\n",
       "      <td>03a886b0-197e-11e8-b1b5-0fb4661abe0f</td>\n",
       "      <td>5</td>\n",
       "      <td>6</td>\n",
       "      <td>-80</td>\n",
       "      <td>33.5</td>\n",
       "      <td>CC:78:AB:15:3F:BE</td>\n",
       "      <td>2018-02-24 16:16:03+0000</td>\n",
       "      <td>GW001154</td>\n",
       "      <td>2018-02-24 16:00:44+0000</td>\n",
       "      <td>...</td>\n",
       "      <td>851270</td>\n",
       "      <td>CC:78:AB:15:3F:BE</td>\n",
       "      <td>11893</td>\n",
       "      <td>1-3-2018 10:03</td>\n",
       "      <td>1-3-2018 10:00</td>\n",
       "      <td>51,581,011</td>\n",
       "      <td>5,310,742</td>\n",
       "      <td>758</td>\n",
       "      <td>52,238,390,688,236</td>\n",
       "      <td>61,737,412,753,937</td>\n",
       "    </tr>\n",
       "  </tbody>\n",
       "</table>\n",
       "<p>5 rows × 21 columns</p>\n",
       "</div>"
      ],
      "text/plain": [
       "  eventtimestamp                                dataid  alertFlags  \\\n",
       "0      20171111Z  71690290-c6bf-11e7-9b04-733c46a7fa80           7   \n",
       "1      20171111Z  3c98a040-c6c2-11e7-9b04-733c46a7fa80           7   \n",
       "2      20180224Z  03a886b0-197e-11e8-b1b5-0fb4661abe0f           5   \n",
       "3      20180224Z  03a886b0-197e-11e8-b1b5-0fb4661abe0f           5   \n",
       "4      20180224Z  03a886b0-197e-11e8-b1b5-0fb4661abe0f           5   \n",
       "\n",
       "   batteryLevel  signalStrength  temperature         macaddress  \\\n",
       "0             8             -77         34.0  A0:E6:F8:48:62:6A   \n",
       "1             8             -77         33.5  A0:E6:F8:48:62:6A   \n",
       "2             6             -80         33.5  CC:78:AB:15:3F:BE   \n",
       "3             6             -80         33.5  CC:78:AB:15:3F:BE   \n",
       "4             6             -80         33.5  CC:78:AB:15:3F:BE   \n",
       "\n",
       "          timestampgateway1 gatewayid1          messagetimestamp  ...      id  \\\n",
       "0  2017-11-11 09:05:19+0000   GW001085  2017-11-11 08:55:17+0000  ...  855752   \n",
       "1  2017-11-11 09:25:19+0000   GW001085  2017-11-11 09:25:17+0000  ...  855752   \n",
       "2  2018-02-24 16:16:03+0000   GW001154  2018-02-24 16:00:44+0000  ...  670634   \n",
       "3  2018-02-24 16:16:03+0000   GW001154  2018-02-24 16:00:44+0000  ...  670702   \n",
       "4  2018-02-24 16:16:03+0000   GW001154  2018-02-24 16:00:44+0000  ...  851270   \n",
       "\n",
       "         macaddress2 asssetid      arrivalTime    DepartureTime  \\\n",
       "0  A0:E6:F8:48:62:6A      113  27-3-2018 11:36  27-3-2018 11:36   \n",
       "1  A0:E6:F8:48:62:6A      113  27-3-2018 11:36  27-3-2018 11:36   \n",
       "2  CC:78:AB:15:3F:BE    11893  10-8-2017 12:15  10-8-2017 11:07   \n",
       "3  CC:78:AB:15:3F:BE    11893  10-8-2017 12:20  10-8-2017 12:15   \n",
       "4  CC:78:AB:15:3F:BE    11893   1-3-2018 10:03   1-3-2018 10:00   \n",
       "\n",
       "                  ToLat                ToLon ToSite               FromLat  \\\n",
       "0  -633,719,342,811,063  106,681,715,844,319    626  -633,719,342,811,063   \n",
       "1  -633,719,342,811,063  106,681,715,844,319    626  -633,719,342,811,063   \n",
       "2           519,985,246           42,281,868    672    52,238,390,688,236   \n",
       "3    52,238,390,688,236   61,737,412,753,937    605           519,985,246   \n",
       "4            51,581,011            5,310,742    758    52,238,390,688,236   \n",
       "\n",
       "               FromLon  \n",
       "0  106,681,715,844,319  \n",
       "1  106,681,715,844,319  \n",
       "2   61,737,412,753,937  \n",
       "3           42,281,868  \n",
       "4   61,737,412,753,937  \n",
       "\n",
       "[5 rows x 21 columns]"
      ]
     },
     "execution_count": 7,
     "metadata": {},
     "output_type": "execute_result"
    }
   ],
   "source": [
    "events1.head()"
   ]
  },
  {
   "cell_type": "code",
   "execution_count": 8,
   "id": "0685e624-ec00-46bd-b2ab-673fbe942b80",
   "metadata": {},
   "outputs": [
    {
     "name": "stdout",
     "output_type": "stream",
     "text": [
      "<class 'pandas.core.frame.DataFrame'>\n",
      "RangeIndex: 987776 entries, 0 to 987775\n",
      "Data columns (total 21 columns):\n",
      " #   Column             Non-Null Count   Dtype  \n",
      "---  ------             --------------   -----  \n",
      " 0   eventtimestamp     987776 non-null  object \n",
      " 1   dataid             987776 non-null  object \n",
      " 2   alertFlags         987776 non-null  int64  \n",
      " 3   batteryLevel       987776 non-null  int64  \n",
      " 4   signalStrength     987776 non-null  int64  \n",
      " 5   temperature        987776 non-null  float64\n",
      " 6   macaddress         987776 non-null  object \n",
      " 7   timestampgateway1  987776 non-null  object \n",
      " 8   gatewayid1         987776 non-null  object \n",
      " 9   messagetimestamp   987776 non-null  object \n",
      " 10  assetid            987776 non-null  int64  \n",
      " 11  id                 987776 non-null  int64  \n",
      " 12  macaddress2        987776 non-null  object \n",
      " 13  asssetid           987776 non-null  int64  \n",
      " 14  arrivalTime        987776 non-null  object \n",
      " 15  DepartureTime      987776 non-null  object \n",
      " 16  ToLat              987776 non-null  object \n",
      " 17  ToLon              987776 non-null  object \n",
      " 18  ToSite             987776 non-null  int64  \n",
      " 19  FromLat            987776 non-null  object \n",
      " 20  FromLon            987776 non-null  object \n",
      "dtypes: float64(1), int64(7), object(13)\n",
      "memory usage: 158.3+ MB\n"
     ]
    }
   ],
   "source": [
    "events1.info()"
   ]
  },
  {
   "cell_type": "code",
   "execution_count": 9,
   "id": "1af5d86c-1232-4a2b-bac5-6d887812030b",
   "metadata": {},
   "outputs": [
    {
     "data": {
      "text/html": [
       "<div>\n",
       "<style scoped>\n",
       "    .dataframe tbody tr th:only-of-type {\n",
       "        vertical-align: middle;\n",
       "    }\n",
       "\n",
       "    .dataframe tbody tr th {\n",
       "        vertical-align: top;\n",
       "    }\n",
       "\n",
       "    .dataframe thead th {\n",
       "        text-align: right;\n",
       "    }\n",
       "</style>\n",
       "<table border=\"1\" class=\"dataframe\">\n",
       "  <thead>\n",
       "    <tr style=\"text-align: right;\">\n",
       "      <th></th>\n",
       "      <th>alertFlags</th>\n",
       "      <th>batteryLevel</th>\n",
       "      <th>signalStrength</th>\n",
       "      <th>temperature</th>\n",
       "      <th>assetid</th>\n",
       "      <th>id</th>\n",
       "      <th>asssetid</th>\n",
       "      <th>ToSite</th>\n",
       "    </tr>\n",
       "  </thead>\n",
       "  <tbody>\n",
       "    <tr>\n",
       "      <th>count</th>\n",
       "      <td>987776.000000</td>\n",
       "      <td>987776.000000</td>\n",
       "      <td>987776.000000</td>\n",
       "      <td>987776.000000</td>\n",
       "      <td>987776.000000</td>\n",
       "      <td>987776.000000</td>\n",
       "      <td>987776.000000</td>\n",
       "      <td>987776.000000</td>\n",
       "    </tr>\n",
       "    <tr>\n",
       "      <th>mean</th>\n",
       "      <td>2.882877</td>\n",
       "      <td>3.882877</td>\n",
       "      <td>-78.206575</td>\n",
       "      <td>16.259540</td>\n",
       "      <td>5025.326175</td>\n",
       "      <td>789509.505483</td>\n",
       "      <td>5025.326175</td>\n",
       "      <td>666.587250</td>\n",
       "    </tr>\n",
       "    <tr>\n",
       "      <th>std</th>\n",
       "      <td>2.108089</td>\n",
       "      <td>2.108089</td>\n",
       "      <td>10.526921</td>\n",
       "      <td>4.619252</td>\n",
       "      <td>12442.385114</td>\n",
       "      <td>167996.941161</td>\n",
       "      <td>12442.385114</td>\n",
       "      <td>65.571312</td>\n",
       "    </tr>\n",
       "    <tr>\n",
       "      <th>min</th>\n",
       "      <td>0.000000</td>\n",
       "      <td>1.000000</td>\n",
       "      <td>-99.000000</td>\n",
       "      <td>-8.500000</td>\n",
       "      <td>1.000000</td>\n",
       "      <td>361.000000</td>\n",
       "      <td>1.000000</td>\n",
       "      <td>605.000000</td>\n",
       "    </tr>\n",
       "    <tr>\n",
       "      <th>25%</th>\n",
       "      <td>1.000000</td>\n",
       "      <td>2.000000</td>\n",
       "      <td>-86.000000</td>\n",
       "      <td>13.500000</td>\n",
       "      <td>109.000000</td>\n",
       "      <td>830278.000000</td>\n",
       "      <td>109.000000</td>\n",
       "      <td>605.000000</td>\n",
       "    </tr>\n",
       "    <tr>\n",
       "      <th>50%</th>\n",
       "      <td>3.000000</td>\n",
       "      <td>4.000000</td>\n",
       "      <td>-80.000000</td>\n",
       "      <td>15.500000</td>\n",
       "      <td>141.000000</td>\n",
       "      <td>838769.000000</td>\n",
       "      <td>141.000000</td>\n",
       "      <td>615.000000</td>\n",
       "    </tr>\n",
       "    <tr>\n",
       "      <th>75%</th>\n",
       "      <td>5.000000</td>\n",
       "      <td>6.000000</td>\n",
       "      <td>-72.000000</td>\n",
       "      <td>20.000000</td>\n",
       "      <td>647.000000</td>\n",
       "      <td>841880.000000</td>\n",
       "      <td>647.000000</td>\n",
       "      <td>743.000000</td>\n",
       "    </tr>\n",
       "    <tr>\n",
       "      <th>max</th>\n",
       "      <td>7.000000</td>\n",
       "      <td>8.000000</td>\n",
       "      <td>-31.000000</td>\n",
       "      <td>34.000000</td>\n",
       "      <td>68252.000000</td>\n",
       "      <td>858350.000000</td>\n",
       "      <td>68252.000000</td>\n",
       "      <td>767.000000</td>\n",
       "    </tr>\n",
       "  </tbody>\n",
       "</table>\n",
       "</div>"
      ],
      "text/plain": [
       "          alertFlags   batteryLevel  signalStrength    temperature  \\\n",
       "count  987776.000000  987776.000000   987776.000000  987776.000000   \n",
       "mean        2.882877       3.882877      -78.206575      16.259540   \n",
       "std         2.108089       2.108089       10.526921       4.619252   \n",
       "min         0.000000       1.000000      -99.000000      -8.500000   \n",
       "25%         1.000000       2.000000      -86.000000      13.500000   \n",
       "50%         3.000000       4.000000      -80.000000      15.500000   \n",
       "75%         5.000000       6.000000      -72.000000      20.000000   \n",
       "max         7.000000       8.000000      -31.000000      34.000000   \n",
       "\n",
       "             assetid             id       asssetid         ToSite  \n",
       "count  987776.000000  987776.000000  987776.000000  987776.000000  \n",
       "mean     5025.326175  789509.505483    5025.326175     666.587250  \n",
       "std     12442.385114  167996.941161   12442.385114      65.571312  \n",
       "min         1.000000     361.000000       1.000000     605.000000  \n",
       "25%       109.000000  830278.000000     109.000000     605.000000  \n",
       "50%       141.000000  838769.000000     141.000000     615.000000  \n",
       "75%       647.000000  841880.000000     647.000000     743.000000  \n",
       "max     68252.000000  858350.000000   68252.000000     767.000000  "
      ]
     },
     "execution_count": 9,
     "metadata": {},
     "output_type": "execute_result"
    }
   ],
   "source": [
    "events1.describe()"
   ]
  },
  {
   "cell_type": "code",
   "execution_count": 10,
   "id": "ab1e01a0-dca3-43b2-986b-360d064f21fb",
   "metadata": {},
   "outputs": [
    {
     "data": {
      "text/plain": [
       "Index(['eventtimestamp', 'dataid', 'alertFlags', 'batteryLevel',\n",
       "       'signalStrength', 'temperature', 'macaddress', 'timestampgateway1',\n",
       "       'gatewayid1', 'messagetimestamp', 'assetid', 'id', 'macaddress2',\n",
       "       'asssetid', 'arrivalTime', 'DepartureTime', 'ToLat', 'ToLon', 'ToSite',\n",
       "       'FromLat', 'FromLon'],\n",
       "      dtype='object')"
      ]
     },
     "execution_count": 10,
     "metadata": {},
     "output_type": "execute_result"
    }
   ],
   "source": [
    "events1.columns"
   ]
  },
  {
   "cell_type": "code",
   "execution_count": 11,
   "id": "7b802c33-ec03-4f10-bef0-f10d082bbcfb",
   "metadata": {},
   "outputs": [],
   "source": [
    "events2 = events1[['alertFlags', 'batteryLevel','signalStrength', 'temperature']]"
   ]
  },
  {
   "cell_type": "code",
   "execution_count": 12,
   "id": "58024525-aed3-47c3-973e-f19c8752274b",
   "metadata": {},
   "outputs": [
    {
     "data": {
      "text/html": [
       "<div>\n",
       "<style scoped>\n",
       "    .dataframe tbody tr th:only-of-type {\n",
       "        vertical-align: middle;\n",
       "    }\n",
       "\n",
       "    .dataframe tbody tr th {\n",
       "        vertical-align: top;\n",
       "    }\n",
       "\n",
       "    .dataframe thead th {\n",
       "        text-align: right;\n",
       "    }\n",
       "</style>\n",
       "<table border=\"1\" class=\"dataframe\">\n",
       "  <thead>\n",
       "    <tr style=\"text-align: right;\">\n",
       "      <th></th>\n",
       "      <th>alertFlags</th>\n",
       "      <th>batteryLevel</th>\n",
       "      <th>signalStrength</th>\n",
       "      <th>temperature</th>\n",
       "    </tr>\n",
       "  </thead>\n",
       "  <tbody>\n",
       "    <tr>\n",
       "      <th>0</th>\n",
       "      <td>7</td>\n",
       "      <td>8</td>\n",
       "      <td>-77</td>\n",
       "      <td>34.0</td>\n",
       "    </tr>\n",
       "    <tr>\n",
       "      <th>1</th>\n",
       "      <td>7</td>\n",
       "      <td>8</td>\n",
       "      <td>-77</td>\n",
       "      <td>33.5</td>\n",
       "    </tr>\n",
       "    <tr>\n",
       "      <th>2</th>\n",
       "      <td>5</td>\n",
       "      <td>6</td>\n",
       "      <td>-80</td>\n",
       "      <td>33.5</td>\n",
       "    </tr>\n",
       "    <tr>\n",
       "      <th>3</th>\n",
       "      <td>5</td>\n",
       "      <td>6</td>\n",
       "      <td>-80</td>\n",
       "      <td>33.5</td>\n",
       "    </tr>\n",
       "    <tr>\n",
       "      <th>4</th>\n",
       "      <td>5</td>\n",
       "      <td>6</td>\n",
       "      <td>-80</td>\n",
       "      <td>33.5</td>\n",
       "    </tr>\n",
       "    <tr>\n",
       "      <th>...</th>\n",
       "      <td>...</td>\n",
       "      <td>...</td>\n",
       "      <td>...</td>\n",
       "      <td>...</td>\n",
       "    </tr>\n",
       "    <tr>\n",
       "      <th>987771</th>\n",
       "      <td>3</td>\n",
       "      <td>4</td>\n",
       "      <td>-87</td>\n",
       "      <td>-8.5</td>\n",
       "    </tr>\n",
       "    <tr>\n",
       "      <th>987772</th>\n",
       "      <td>3</td>\n",
       "      <td>4</td>\n",
       "      <td>-87</td>\n",
       "      <td>-8.5</td>\n",
       "    </tr>\n",
       "    <tr>\n",
       "      <th>987773</th>\n",
       "      <td>3</td>\n",
       "      <td>4</td>\n",
       "      <td>-87</td>\n",
       "      <td>-8.5</td>\n",
       "    </tr>\n",
       "    <tr>\n",
       "      <th>987774</th>\n",
       "      <td>3</td>\n",
       "      <td>4</td>\n",
       "      <td>-87</td>\n",
       "      <td>-8.5</td>\n",
       "    </tr>\n",
       "    <tr>\n",
       "      <th>987775</th>\n",
       "      <td>3</td>\n",
       "      <td>4</td>\n",
       "      <td>-87</td>\n",
       "      <td>-8.5</td>\n",
       "    </tr>\n",
       "  </tbody>\n",
       "</table>\n",
       "<p>987776 rows × 4 columns</p>\n",
       "</div>"
      ],
      "text/plain": [
       "        alertFlags  batteryLevel  signalStrength  temperature\n",
       "0                7             8             -77         34.0\n",
       "1                7             8             -77         33.5\n",
       "2                5             6             -80         33.5\n",
       "3                5             6             -80         33.5\n",
       "4                5             6             -80         33.5\n",
       "...            ...           ...             ...          ...\n",
       "987771           3             4             -87         -8.5\n",
       "987772           3             4             -87         -8.5\n",
       "987773           3             4             -87         -8.5\n",
       "987774           3             4             -87         -8.5\n",
       "987775           3             4             -87         -8.5\n",
       "\n",
       "[987776 rows x 4 columns]"
      ]
     },
     "execution_count": 12,
     "metadata": {},
     "output_type": "execute_result"
    }
   ],
   "source": [
    "events2"
   ]
  },
  {
   "cell_type": "code",
   "execution_count": 13,
   "id": "79a319d0-919f-4772-b050-b0bde734346f",
   "metadata": {},
   "outputs": [
    {
     "data": {
      "text/plain": [
       "<seaborn.axisgrid.PairGrid at 0x1f20b990ee0>"
      ]
     },
     "execution_count": 13,
     "metadata": {},
     "output_type": "execute_result"
    },
    {
     "data": {
      "image/png": "[encoded data removed]",
      "text/plain": [
       "<Figure size 720x720 with 20 Axes>"
      ]
     },
     "metadata": {
      "needs_background": "light"
     },
     "output_type": "display_data"
    }
   ],
   "source": [
    "sns.pairplot(events2)"
   ]
  },
  {
   "cell_type": "code",
   "execution_count": 14,
   "id": "db87ed24-a155-4d4c-a4f8-2f17fdaf5e93",
   "metadata": {},
   "outputs": [
    {
     "data": {
      "text/plain": [
       "<AxesSubplot:xlabel='temperature', ylabel='Count'>"
      ]
     },
     "execution_count": 14,
     "metadata": {},
     "output_type": "execute_result"
    },
    {
     "data": {
      "image/png": "[encoded data removed]",
      "text/plain": [
       "<Figure size 432x288 with 1 Axes>"
      ]
     },
     "metadata": {
      "needs_background": "light"
     },
     "output_type": "display_data"
    }
   ],
   "source": [
    "sns.histplot(data=events2, x='temperature', palette='coolwarm', bins=20)"
   ]
  },
  {
   "cell_type": "code",
   "execution_count": 15,
   "id": "c726925c-02d0-4e12-b61c-0912ac5c179b",
   "metadata": {},
   "outputs": [
    {
     "data": {
      "text/plain": [
       "<AxesSubplot:xlabel='signalStrength', ylabel='Count'>"
      ]
     },
     "execution_count": 15,
     "metadata": {},
     "output_type": "execute_result"
    },
    {
     "data": {
      "image/png": "[encoded data removed]",
      "text/plain": [
       "<Figure size 432x288 with 1 Axes>"
      ]
     },
     "metadata": {
      "needs_background": "light"
     },
     "output_type": "display_data"
    }
   ],
   "source": [
    "sns.histplot(data=events2, x='signalStrength', palette='coolwarm', bins=20)"
   ]
  },
  {
   "cell_type": "code",
   "execution_count": 16,
   "id": "9358d629-95dd-48f0-8142-dcdb61595c5b",
   "metadata": {},
   "outputs": [
    {
     "data": {
      "text/plain": [
       "<AxesSubplot:xlabel='temperature', ylabel='Count'>"
      ]
     },
     "execution_count": 16,
     "metadata": {},
     "output_type": "execute_result"
    },
    {
     "data": {
      "image/png": "[encoded data removed]",
      "text/plain": [
       "<Figure size 432x288 with 1 Axes>"
      ]
     },
     "metadata": {
      "needs_background": "light"
     },
     "output_type": "display_data"
    }
   ],
   "source": [
    "sns.histplot(data=events2, x='temperature', hue='alertFlags', palette='coolwarm', bins=20)"
   ]
  },
  {
   "cell_type": "code",
   "execution_count": 17,
   "id": "747a7630-b0ad-43e9-bf4b-131744259773",
   "metadata": {},
   "outputs": [
    {
     "data": {
      "text/plain": [
       "<AxesSubplot:xlabel='signalStrength', ylabel='Count'>"
      ]
     },
     "execution_count": 17,
     "metadata": {},
     "output_type": "execute_result"
    },
    {
     "data": {
      "image/png": "[encoded data removed]",
      "text/plain": [
       "<Figure size 432x288 with 1 Axes>"
      ]
     },
     "metadata": {
      "needs_background": "light"
     },
     "output_type": "display_data"
    }
   ],
   "source": [
    "sns.histplot(data=events2, x='signalStrength', hue='alertFlags', palette='coolwarm', bins=20)"
   ]
  },
  {
   "cell_type": "code",
   "execution_count": 18,
   "id": "de2ea217-595f-45af-abd1-e988cdd66308",
   "metadata": {},
   "outputs": [
    {
     "data": {
      "text/plain": [
       "<AxesSubplot:xlabel='batteryLevel', ylabel='Count'>"
      ]
     },
     "execution_count": 18,
     "metadata": {},
     "output_type": "execute_result"
    },
    {
     "data": {
      "image/png": "[encoded data removed]",
      "text/plain": [
       "<Figure size 432x288 with 1 Axes>"
      ]
     },
     "metadata": {
      "needs_background": "light"
     },
     "output_type": "display_data"
    }
   ],
   "source": [
    "sns.histplot(data=events2, x='batteryLevel', hue='alertFlags', palette='coolwarm', bins=20)"
   ]
  },
  {
   "cell_type": "code",
   "execution_count": 19,
   "id": "320ff673-de1c-47d4-ab76-75f833d8a360",
   "metadata": {},
   "outputs": [],
   "source": [
    "#Train_test_split"
   ]
  },
  {
   "cell_type": "code",
   "execution_count": 20,
   "id": "b799963f-d5ae-48b8-8f40-1b994bedbdc6",
   "metadata": {},
   "outputs": [],
   "source": [
    "from sklearn.model_selection import train_test_split"
   ]
  },
  {
   "cell_type": "code",
   "execution_count": 21,
   "id": "f518cf7d-b966-4909-ae42-323e723abb9b",
   "metadata": {},
   "outputs": [
    {
     "data": {
      "text/plain": [
       "Index(['alertFlags', 'batteryLevel', 'signalStrength', 'temperature'], dtype='object')"
      ]
     },
     "execution_count": 21,
     "metadata": {},
     "output_type": "execute_result"
    }
   ],
   "source": [
    "events2.columns"
   ]
  },
  {
   "cell_type": "code",
   "execution_count": 22,
   "id": "bcf2d14b-3ad0-418c-8cf1-8652f7e22ab3",
   "metadata": {},
   "outputs": [],
   "source": [
    "X= events2[['batteryLevel', 'signalStrength', 'temperature']]"
   ]
  },
  {
   "cell_type": "code",
   "execution_count": 23,
   "id": "5e14968c-73c5-40ea-bf81-4028c977cba5",
   "metadata": {},
   "outputs": [],
   "source": [
    "y= events2['alertFlags']"
   ]
  },
  {
   "cell_type": "code",
   "execution_count": 24,
   "id": "723781b4-3796-45df-82db-5ad3b2325631",
   "metadata": {},
   "outputs": [],
   "source": [
    "X_train, X_test, y_train, y_test = train_test_split(X, y, test_size=0.3, random_state=42)"
   ]
  },
  {
   "cell_type": "code",
   "execution_count": 25,
   "id": "a6989a8e-ab6e-4133-988f-4d223e7b4cff",
   "metadata": {},
   "outputs": [],
   "source": [
    "#Building the model "
   ]
  },
  {
   "cell_type": "code",
   "execution_count": 26,
   "id": "1c81820c-30fe-4d52-8369-a3a6005fc150",
   "metadata": {},
   "outputs": [],
   "source": [
    "from sklearn.linear_model import LogisticRegression "
   ]
  },
  {
   "cell_type": "code",
   "execution_count": 27,
   "id": "07fc6700-e3d8-44d8-a62b-8f99c24f2095",
   "metadata": {},
   "outputs": [],
   "source": [
    "log_model = LogisticRegression()"
   ]
  },
  {
   "cell_type": "code",
   "execution_count": 28,
   "id": "e7aa77db-5afc-4344-80bb-577c60e4954c",
   "metadata": {},
   "outputs": [
    {
     "data": {
      "text/plain": [
       "LogisticRegression()"
      ]
     },
     "execution_count": 28,
     "metadata": {},
     "output_type": "execute_result"
    }
   ],
   "source": [
    "log_model"
   ]
  },
  {
   "cell_type": "code",
   "execution_count": 29,
   "id": "3aeb7604-b2bb-4c4e-9248-974df41affc2",
   "metadata": {},
   "outputs": [
    {
     "name": "stderr",
     "output_type": "stream",
     "text": [
      "C:\\Python38\\lib\\site-packages\\sklearn\\linear_model\\_logistic.py:814: ConvergenceWarning: lbfgs failed to converge (status=1):\n",
      "STOP: TOTAL NO. of ITERATIONS REACHED LIMIT.\n",
      "\n",
      "Increase the number of iterations (max_iter) or scale the data as shown in:\n",
      "    https://scikit-learn.org/stable/modules/preprocessing.html\n",
      "Please also refer to the documentation for alternative solver options:\n",
      "    https://scikit-learn.org/stable/modules/linear_model.html#logistic-regression\n",
      "  n_iter_i = _check_optimize_result(\n"
     ]
    },
    {
     "data": {
      "text/plain": [
       "LogisticRegression()"
      ]
     },
     "execution_count": 29,
     "metadata": {},
     "output_type": "execute_result"
    }
   ],
   "source": [
    "log_model.fit(X_train, y_train)"
   ]
  },
  {
   "cell_type": "code",
   "execution_count": 30,
   "id": "895e901d-5849-4666-873e-adf18d673232",
   "metadata": {},
   "outputs": [],
   "source": [
    "#Make predictions and evaluations"
   ]
  },
  {
   "cell_type": "code",
   "execution_count": 31,
   "id": "adae7580-b927-442a-b6e7-0af16bdc1c5c",
   "metadata": {},
   "outputs": [],
   "source": [
    "log_predictions = log_model.predict(X_test)"
   ]
  },
  {
   "cell_type": "code",
   "execution_count": 32,
   "id": "68260014-6e1c-498b-ba6d-033d9d62a77d",
   "metadata": {},
   "outputs": [
    {
     "data": {
      "text/plain": [
       "array([1, 0, 3, ..., 5, 5, 1], dtype=int64)"
      ]
     },
     "execution_count": 32,
     "metadata": {},
     "output_type": "execute_result"
    }
   ],
   "source": [
    "log_predictions"
   ]
  },
  {
   "cell_type": "code",
   "execution_count": 33,
   "id": "c29d2b14-45c5-47a4-875e-b7d91571cdab",
   "metadata": {},
   "outputs": [],
   "source": [
    "np.savetxt('Predictions-Events-LogisticRegression.csv', log_predictions, '%s')"
   ]
  },
  {
   "cell_type": "code",
   "execution_count": 34,
   "id": "55bb40ee-a3e9-43ae-958d-a08c8e17224a",
   "metadata": {},
   "outputs": [],
   "source": [
    "#Evaluations"
   ]
  },
  {
   "cell_type": "code",
   "execution_count": 35,
   "id": "ef650025-784b-4dbc-8b37-d8859132c4ce",
   "metadata": {},
   "outputs": [],
   "source": [
    "from sklearn.metrics import classification_report, confusion_matrix"
   ]
  },
  {
   "cell_type": "code",
   "execution_count": 36,
   "id": "8923b3f0-56fd-4a29-876b-2421603f18db",
   "metadata": {},
   "outputs": [
    {
     "name": "stderr",
     "output_type": "stream",
     "text": [
      "C:\\Python38\\lib\\site-packages\\sklearn\\metrics\\_classification.py:1318: UndefinedMetricWarning: Precision and F-score are ill-defined and being set to 0.0 in labels with no predicted samples. Use `zero_division` parameter to control this behavior.\n",
      "  _warn_prf(average, modifier, msg_start, len(result))\n",
      "C:\\Python38\\lib\\site-packages\\sklearn\\metrics\\_classification.py:1318: UndefinedMetricWarning: Precision and F-score are ill-defined and being set to 0.0 in labels with no predicted samples. Use `zero_division` parameter to control this behavior.\n",
      "  _warn_prf(average, modifier, msg_start, len(result))\n"
     ]
    },
    {
     "name": "stdout",
     "output_type": "stream",
     "text": [
      "              precision    recall  f1-score   support\n",
      "\n",
      "           0       1.00      0.98      0.99     35020\n",
      "           1       0.97      1.00      0.98    105130\n",
      "           2       0.00      0.00      0.00      1890\n",
      "           3       0.97      0.87      0.91     16473\n",
      "           4       0.00      0.00      0.00       116\n",
      "           5       0.97      1.00      0.99    135056\n",
      "           7       0.00      0.00      0.00      2648\n",
      "\n",
      "    accuracy                           0.97    296333\n",
      "   macro avg       0.56      0.55      0.55    296333\n",
      "weighted avg       0.96      0.97      0.97    296333\n",
      "\n"
     ]
    },
    {
     "name": "stderr",
     "output_type": "stream",
     "text": [
      "C:\\Python38\\lib\\site-packages\\sklearn\\metrics\\_classification.py:1318: UndefinedMetricWarning: Precision and F-score are ill-defined and being set to 0.0 in labels with no predicted samples. Use `zero_division` parameter to control this behavior.\n",
      "  _warn_prf(average, modifier, msg_start, len(result))\n"
     ]
    }
   ],
   "source": [
    "print(classification_report(y_test, log_predictions))"
   ]
  },
  {
   "cell_type": "code",
   "execution_count": 37,
   "id": "57cfaebe-9ea2-4cc4-a006-afdac61be117",
   "metadata": {},
   "outputs": [
    {
     "name": "stdout",
     "output_type": "stream",
     "text": [
      "[[ 34396    623      0      1      0      0      0]\n",
      " [     0 104985      0    121     24      0      0]\n",
      " [     0   1536      0    354      0      0      0]\n",
      " [     0    889      0  14264      0   1320      0]\n",
      " [     0     19      0      9      0     88      0]\n",
      " [     0      0      0      0      0 135056      0]\n",
      " [     0      0      0      0      0   2648      0]]\n"
     ]
    }
   ],
   "source": [
    "print(confusion_matrix(y_test, log_predictions))"
   ]
  },
  {
   "cell_type": "code",
   "execution_count": 38,
   "id": "38520af5-6e55-438c-83de-86f3c420c582",
   "metadata": {},
   "outputs": [],
   "source": [
    "matrix = confusion_matrix(y_test, log_predictions)"
   ]
  },
  {
   "cell_type": "code",
   "execution_count": 39,
   "id": "a2d43c75-e15b-449e-b4bd-986d13fa3f2c",
   "metadata": {},
   "outputs": [
    {
     "data": {
      "text/plain": [
       "<AxesSubplot:>"
      ]
     },
     "execution_count": 39,
     "metadata": {},
     "output_type": "execute_result"
    },
    {
     "data": {
      "image/png": "[encoded data removed]",
      "text/plain": [
       "<Figure size 1080x720 with 1 Axes>"
      ]
     },
     "metadata": {
      "needs_background": "light"
     },
     "output_type": "display_data"
    }
   ],
   "source": [
    "plt.figure(figsize=(15,10))\n",
    "sns.heatmap(matrix, annot=True, square=True, cmap='Blues', cbar=False, fmt='d')"
   ]
  },
  {
   "cell_type": "code",
   "execution_count": 43,
   "id": "a63cd772-2c74-4074-950f-406b4ed32b05",
   "metadata": {},
   "outputs": [
    {
     "data": {
      "text/html": [
       "<div>\n",
       "<style scoped>\n",
       "    .dataframe tbody tr th:only-of-type {\n",
       "        vertical-align: middle;\n",
       "    }\n",
       "\n",
       "    .dataframe tbody tr th {\n",
       "        vertical-align: top;\n",
       "    }\n",
       "\n",
       "    .dataframe thead th {\n",
       "        text-align: right;\n",
       "    }\n",
       "</style>\n",
       "<table border=\"1\" class=\"dataframe\">\n",
       "  <thead>\n",
       "    <tr style=\"text-align: right;\">\n",
       "      <th></th>\n",
       "      <th>Actual_value</th>\n",
       "      <th>Predicted value</th>\n",
       "    </tr>\n",
       "  </thead>\n",
       "  <tbody>\n",
       "    <tr>\n",
       "      <th>109189</th>\n",
       "      <td>1</td>\n",
       "      <td>1</td>\n",
       "    </tr>\n",
       "    <tr>\n",
       "      <th>156886</th>\n",
       "      <td>0</td>\n",
       "      <td>0</td>\n",
       "    </tr>\n",
       "    <tr>\n",
       "      <th>880742</th>\n",
       "      <td>3</td>\n",
       "      <td>3</td>\n",
       "    </tr>\n",
       "    <tr>\n",
       "      <th>330381</th>\n",
       "      <td>1</td>\n",
       "      <td>1</td>\n",
       "    </tr>\n",
       "    <tr>\n",
       "      <th>682445</th>\n",
       "      <td>0</td>\n",
       "      <td>0</td>\n",
       "    </tr>\n",
       "    <tr>\n",
       "      <th>...</th>\n",
       "      <td>...</td>\n",
       "      <td>...</td>\n",
       "    </tr>\n",
       "    <tr>\n",
       "      <th>822191</th>\n",
       "      <td>3</td>\n",
       "      <td>5</td>\n",
       "    </tr>\n",
       "    <tr>\n",
       "      <th>267859</th>\n",
       "      <td>5</td>\n",
       "      <td>5</td>\n",
       "    </tr>\n",
       "    <tr>\n",
       "      <th>521015</th>\n",
       "      <td>1</td>\n",
       "      <td>1</td>\n",
       "    </tr>\n",
       "    <tr>\n",
       "      <th>461970</th>\n",
       "      <td>5</td>\n",
       "      <td>5</td>\n",
       "    </tr>\n",
       "    <tr>\n",
       "      <th>305386</th>\n",
       "      <td>5</td>\n",
       "      <td>5</td>\n",
       "    </tr>\n",
       "  </tbody>\n",
       "</table>\n",
       "<p>1000 rows × 2 columns</p>\n",
       "</div>"
      ],
      "text/plain": [
       "        Actual_value  Predicted value\n",
       "109189             1                1\n",
       "156886             0                0\n",
       "880742             3                3\n",
       "330381             1                1\n",
       "682445             0                0\n",
       "...              ...              ...\n",
       "822191             3                5\n",
       "267859             5                5\n",
       "521015             1                1\n",
       "461970             5                5\n",
       "305386             5                5\n",
       "\n",
       "[1000 rows x 2 columns]"
      ]
     },
     "execution_count": 43,
     "metadata": {},
     "output_type": "execute_result"
    }
   ],
   "source": [
    "s= pd.DataFrame({'Actual_value': y_test, 'Predicted value': log_predictions})\n",
    "s.head(1000)"
   ]
  },
  {
   "cell_type": "code",
   "execution_count": 45,
   "id": "3fc25e66-3ca8-4d97-a462-6b770ab9ffb8",
   "metadata": {},
   "outputs": [],
   "source": [
    "s.to_csv('Predictions-Events-LogisticRegression-Actual-vs-predicted-values.csv', sep='\\t')"
   ]
  },
  {
   "cell_type": "code",
   "execution_count": 47,
   "id": "fbeb1647-8ba9-4c46-9dc2-8da73ebbb482",
   "metadata": {},
   "outputs": [
    {
     "name": "stderr",
     "output_type": "stream",
     "text": [
      "C:\\Python38\\lib\\site-packages\\seaborn\\_decorators.py:36: FutureWarning: Pass the following variables as keyword args: x, y. From version 0.12, the only valid positional argument will be `data`, and passing other arguments without an explicit keyword will result in an error or misinterpretation.\n",
      "  warnings.warn(\n"
     ]
    },
    {
     "data": {
      "text/plain": [
       "Text(0, 0.5, 'y predictions')"
      ]
     },
     "execution_count": 47,
     "metadata": {},
     "output_type": "execute_result"
    },
    {
     "data": {
      "image/png": "[encoded data removed]",
      "text/plain": [
       "<Figure size 432x288 with 1 Axes>"
      ]
     },
     "metadata": {
      "needs_background": "light"
     },
     "output_type": "display_data"
    }
   ],
   "source": [
    "sns.regplot(y_test, log_predictions)\n",
    "plt.xlabel('Y_test_values')\n",
    "plt.ylabel('y predictions')"
   ]
  },
  {
   "cell_type": "code",
   "execution_count": null,
   "id": "a127d506-c9c9-46a7-970b-209e4945d400",
   "metadata": {},
   "outputs": [],
   "source": []
  },
  {
   "cell_type": "code",
   "execution_count": null,
   "id": "3ca8e79e-8c28-46c3-9628-32a5bcb03ede",
   "metadata": {},
   "outputs": [],
   "source": []
  },
  {
   "cell_type": "code",
   "execution_count": null,
   "id": "1dbbf6ba-5797-4d16-b1a0-0a04b097873f",
   "metadata": {},
   "outputs": [],
   "source": []
  },
  {
   "cell_type": "code",
   "execution_count": null,
   "id": "ef9b7772-5a80-4f8b-88a0-3940c025a3d9",
   "metadata": {},
   "outputs": [],
   "source": []
  },
  {
   "cell_type": "code",
   "execution_count": null,
   "id": "63519a6f-d014-4199-abcd-365f5d75e7d2",
   "metadata": {},
   "outputs": [],
   "source": []
  },
  {
   "cell_type": "code",
   "execution_count": null,
   "id": "fc1d340a-0270-4e98-8f90-3fb6198d3bef",
   "metadata": {},
   "outputs": [],
   "source": []
  },
  {
   "cell_type": "code",
   "execution_count": null,
   "id": "6712fd8e-2f68-449a-ad37-007d9e0135e1",
   "metadata": {},
   "outputs": [],
   "source": []
  },
  {
   "cell_type": "code",
   "execution_count": null,
   "id": "c9b0ced8-eea0-4182-a7ec-bdd022a9a606",
   "metadata": {},
   "outputs": [],
   "source": []
  },
  {
   "cell_type": "code",
   "execution_count": null,
   "id": "020b2912-695d-45fa-8cfb-942a9b83c328",
   "metadata": {},
   "outputs": [],
   "source": []
  },
  {
   "cell_type": "code",
   "execution_count": null,
   "id": "e4cda94c-b536-4488-8e84-c93b831a35e6",
   "metadata": {},
   "outputs": [],
   "source": []
  },
  {
   "cell_type": "code",
   "execution_count": null,
   "id": "2b2d1991-d9a2-4000-ae40-0a51c604b75a",
   "metadata": {},
   "outputs": [],
   "source": []
  },
  {
   "cell_type": "code",
   "execution_count": null,
   "id": "cdf294cc-8efc-44d3-be01-cf3399acc456",
   "metadata": {},
   "outputs": [],
   "source": []
  },
  {
   "cell_type": "code",
   "execution_count": null,
   "id": "9034976f-9ff9-436e-a84a-bdee4bdbfbb3",
   "metadata": {},
   "outputs": [],
   "source": []
  },
  {
   "cell_type": "code",
   "execution_count": null,
   "id": "c4fa87b7-cb6b-4b51-be6d-1ef8fa0b341a",
   "metadata": {},
   "outputs": [],
   "source": []
  },
  {
   "cell_type": "code",
   "execution_count": null,
   "id": "d58c156b-ab83-469f-822d-ca2fae63f7f3",
   "metadata": {},
   "outputs": [],
   "source": []
  },
  {
   "cell_type": "code",
   "execution_count": null,
   "id": "164f8833-7731-4e03-a651-00877c30223e",
   "metadata": {},
   "outputs": [],
   "source": []
  },
  {
   "cell_type": "code",
   "execution_count": null,
   "id": "9b863365-f4d3-4998-a01a-fc22c9a4536e",
   "metadata": {},
   "outputs": [],
   "source": []
  },
  {
   "cell_type": "code",
   "execution_count": null,
   "id": "7ee82b46-3ba9-4c19-982a-1a01d23c98dc",
   "metadata": {},
   "outputs": [],
   "source": []
  },
  {
   "cell_type": "code",
   "execution_count": null,
   "id": "f1c9b357-a8d1-4a35-8254-314668b213b7",
   "metadata": {},
   "outputs": [],
   "source": []
  },
  {
   "cell_type": "code",
   "execution_count": null,
   "id": "ba0e3934-6b5b-4e87-bf8f-621774e7f2ae",
   "metadata": {},
   "outputs": [],
   "source": []
  }
 ],
 "metadata": {
  "kernelspec": {
   "display_name": "Python 3 (ipykernel)",
   "language": "python",
   "name": "python3"
  },
  "language_info": {
   "codemirror_mode": {
    "name": "ipython",
    "version": 3
   },
   "file_extension": ".py",
   "mimetype": "text/x-python",
   "name": "python",
   "nbconvert_exporter": "python",
   "pygments_lexer": "ipython3",
   "version": "3.8.0"
  }
 },
 "nbformat": 4,
 "nbformat_minor": 5
}
