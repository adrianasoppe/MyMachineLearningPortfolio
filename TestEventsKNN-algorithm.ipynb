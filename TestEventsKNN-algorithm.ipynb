{
 "cells": [
  {
   "cell_type": "code",
   "execution_count": 1,
   "id": "af85eb5e-cc82-416a-b962-cd21ac9a3971",
   "metadata": {
    "extensions": {
     "jupyter_dashboards": {
      "version": 1,
      "views": {
       "grid_default": {},
       "report_default": {
        "hidden": true
       }
      }
     }
    }
   },
   "outputs": [],
   "source": [
    "import pandas as pd \n",
    "import numpy as np \n",
    "import matplotlib.pyplot as plt \n",
    "import seaborn as sns \n",
    "%matplotlib inline "
   ]
  },
  {
   "cell_type": "code",
   "execution_count": 2,
   "id": "e451e77d-a0f4-47d2-80a9-b65518a56f63",
   "metadata": {
    "extensions": {
     "jupyter_dashboards": {
      "version": 1,
      "views": {
       "grid_default": {},
       "report_default": {
        "hidden": false
       }
      }
     }
    }
   },
   "outputs": [
    {
     "data": {
      "text/html": [
       "<div>\n",
       "<style scoped>\n",
       "    .dataframe tbody tr th:only-of-type {\n",
       "        vertical-align: middle;\n",
       "    }\n",
       "\n",
       "    .dataframe tbody tr th {\n",
       "        vertical-align: top;\n",
       "    }\n",
       "\n",
       "    .dataframe thead th {\n",
       "        text-align: right;\n",
       "    }\n",
       "</style>\n",
       "<table border=\"1\" class=\"dataframe\">\n",
       "  <thead>\n",
       "    <tr style=\"text-align: right;\">\n",
       "      <th></th>\n",
       "      <th>eventtimestamp</th>\n",
       "      <th>dataid</th>\n",
       "      <th>alertFlags</th>\n",
       "      <th>batteryLevel</th>\n",
       "      <th>signalStrength</th>\n",
       "      <th>temperature</th>\n",
       "      <th>macaddress</th>\n",
       "      <th>timestampgateway1</th>\n",
       "      <th>gatewayid1</th>\n",
       "      <th>messagetimestamp</th>\n",
       "      <th>...</th>\n",
       "      <th>id</th>\n",
       "      <th>macaddress2</th>\n",
       "      <th>asssetid</th>\n",
       "      <th>arrivalTime</th>\n",
       "      <th>DepartureTime</th>\n",
       "      <th>ToLat</th>\n",
       "      <th>ToLon</th>\n",
       "      <th>ToSite</th>\n",
       "      <th>FromLat</th>\n",
       "      <th>FromLon</th>\n",
       "    </tr>\n",
       "  </thead>\n",
       "  <tbody>\n",
       "    <tr>\n",
       "      <th>0</th>\n",
       "      <td>20171111Z</td>\n",
       "      <td>71690290-c6bf-11e7-9b04-733c46a7fa80</td>\n",
       "      <td>7</td>\n",
       "      <td>8</td>\n",
       "      <td>-77</td>\n",
       "      <td>34.0</td>\n",
       "      <td>A0:E6:F8:48:62:6A</td>\n",
       "      <td>2017-11-11 09:05:19+0000</td>\n",
       "      <td>GW001085</td>\n",
       "      <td>2017-11-11 08:55:17+0000</td>\n",
       "      <td>...</td>\n",
       "      <td>855752</td>\n",
       "      <td>A0:E6:F8:48:62:6A</td>\n",
       "      <td>113</td>\n",
       "      <td>27-3-2018 11:36</td>\n",
       "      <td>27-3-2018 11:36</td>\n",
       "      <td>-633,719,342,811,063</td>\n",
       "      <td>106,681,715,844,319</td>\n",
       "      <td>626</td>\n",
       "      <td>-633,719,342,811,063</td>\n",
       "      <td>106,681,715,844,319</td>\n",
       "    </tr>\n",
       "    <tr>\n",
       "      <th>1</th>\n",
       "      <td>20171111Z</td>\n",
       "      <td>3c98a040-c6c2-11e7-9b04-733c46a7fa80</td>\n",
       "      <td>7</td>\n",
       "      <td>8</td>\n",
       "      <td>-77</td>\n",
       "      <td>33.5</td>\n",
       "      <td>A0:E6:F8:48:62:6A</td>\n",
       "      <td>2017-11-11 09:25:19+0000</td>\n",
       "      <td>GW001085</td>\n",
       "      <td>2017-11-11 09:25:17+0000</td>\n",
       "      <td>...</td>\n",
       "      <td>855752</td>\n",
       "      <td>A0:E6:F8:48:62:6A</td>\n",
       "      <td>113</td>\n",
       "      <td>27-3-2018 11:36</td>\n",
       "      <td>27-3-2018 11:36</td>\n",
       "      <td>-633,719,342,811,063</td>\n",
       "      <td>106,681,715,844,319</td>\n",
       "      <td>626</td>\n",
       "      <td>-633,719,342,811,063</td>\n",
       "      <td>106,681,715,844,319</td>\n",
       "    </tr>\n",
       "    <tr>\n",
       "      <th>2</th>\n",
       "      <td>20180224Z</td>\n",
       "      <td>03a886b0-197e-11e8-b1b5-0fb4661abe0f</td>\n",
       "      <td>5</td>\n",
       "      <td>6</td>\n",
       "      <td>-80</td>\n",
       "      <td>33.5</td>\n",
       "      <td>CC:78:AB:15:3F:BE</td>\n",
       "      <td>2018-02-24 16:16:03+0000</td>\n",
       "      <td>GW001154</td>\n",
       "      <td>2018-02-24 16:00:44+0000</td>\n",
       "      <td>...</td>\n",
       "      <td>670634</td>\n",
       "      <td>CC:78:AB:15:3F:BE</td>\n",
       "      <td>11893</td>\n",
       "      <td>10-8-2017 12:15</td>\n",
       "      <td>10-8-2017 11:07</td>\n",
       "      <td>519,985,246</td>\n",
       "      <td>42,281,868</td>\n",
       "      <td>672</td>\n",
       "      <td>52,238,390,688,236</td>\n",
       "      <td>61,737,412,753,937</td>\n",
       "    </tr>\n",
       "    <tr>\n",
       "      <th>3</th>\n",
       "      <td>20180224Z</td>\n",
       "      <td>03a886b0-197e-11e8-b1b5-0fb4661abe0f</td>\n",
       "      <td>5</td>\n",
       "      <td>6</td>\n",
       "      <td>-80</td>\n",
       "      <td>33.5</td>\n",
       "      <td>CC:78:AB:15:3F:BE</td>\n",
       "      <td>2018-02-24 16:16:03+0000</td>\n",
       "      <td>GW001154</td>\n",
       "      <td>2018-02-24 16:00:44+0000</td>\n",
       "      <td>...</td>\n",
       "      <td>670702</td>\n",
       "      <td>CC:78:AB:15:3F:BE</td>\n",
       "      <td>11893</td>\n",
       "      <td>10-8-2017 12:20</td>\n",
       "      <td>10-8-2017 12:15</td>\n",
       "      <td>52,238,390,688,236</td>\n",
       "      <td>61,737,412,753,937</td>\n",
       "      <td>605</td>\n",
       "      <td>519,985,246</td>\n",
       "      <td>42,281,868</td>\n",
       "    </tr>\n",
       "    <tr>\n",
       "      <th>4</th>\n",
       "      <td>20180224Z</td>\n",
       "      <td>03a886b0-197e-11e8-b1b5-0fb4661abe0f</td>\n",
       "      <td>5</td>\n",
       "      <td>6</td>\n",
       "      <td>-80</td>\n",
       "      <td>33.5</td>\n",
       "      <td>CC:78:AB:15:3F:BE</td>\n",
       "      <td>2018-02-24 16:16:03+0000</td>\n",
       "      <td>GW001154</td>\n",
       "      <td>2018-02-24 16:00:44+0000</td>\n",
       "      <td>...</td>\n",
       "      <td>851270</td>\n",
       "      <td>CC:78:AB:15:3F:BE</td>\n",
       "      <td>11893</td>\n",
       "      <td>1-3-2018 10:03</td>\n",
       "      <td>1-3-2018 10:00</td>\n",
       "      <td>51,581,011</td>\n",
       "      <td>5,310,742</td>\n",
       "      <td>758</td>\n",
       "      <td>52,238,390,688,236</td>\n",
       "      <td>61,737,412,753,937</td>\n",
       "    </tr>\n",
       "  </tbody>\n",
       "</table>\n",
       "<p>5 rows × 21 columns</p>\n",
       "</div>"
      ],
      "text/plain": [
       "  eventtimestamp                                dataid  alertFlags  \\\n",
       "0      20171111Z  71690290-c6bf-11e7-9b04-733c46a7fa80           7   \n",
       "1      20171111Z  3c98a040-c6c2-11e7-9b04-733c46a7fa80           7   \n",
       "2      20180224Z  03a886b0-197e-11e8-b1b5-0fb4661abe0f           5   \n",
       "3      20180224Z  03a886b0-197e-11e8-b1b5-0fb4661abe0f           5   \n",
       "4      20180224Z  03a886b0-197e-11e8-b1b5-0fb4661abe0f           5   \n",
       "\n",
       "   batteryLevel  signalStrength  temperature         macaddress  \\\n",
       "0             8             -77         34.0  A0:E6:F8:48:62:6A   \n",
       "1             8             -77         33.5  A0:E6:F8:48:62:6A   \n",
       "2             6             -80         33.5  CC:78:AB:15:3F:BE   \n",
       "3             6             -80         33.5  CC:78:AB:15:3F:BE   \n",
       "4             6             -80         33.5  CC:78:AB:15:3F:BE   \n",
       "\n",
       "          timestampgateway1 gatewayid1          messagetimestamp  ...      id  \\\n",
       "0  2017-11-11 09:05:19+0000   GW001085  2017-11-11 08:55:17+0000  ...  855752   \n",
       "1  2017-11-11 09:25:19+0000   GW001085  2017-11-11 09:25:17+0000  ...  855752   \n",
       "2  2018-02-24 16:16:03+0000   GW001154  2018-02-24 16:00:44+0000  ...  670634   \n",
       "3  2018-02-24 16:16:03+0000   GW001154  2018-02-24 16:00:44+0000  ...  670702   \n",
       "4  2018-02-24 16:16:03+0000   GW001154  2018-02-24 16:00:44+0000  ...  851270   \n",
       "\n",
       "         macaddress2 asssetid      arrivalTime    DepartureTime  \\\n",
       "0  A0:E6:F8:48:62:6A      113  27-3-2018 11:36  27-3-2018 11:36   \n",
       "1  A0:E6:F8:48:62:6A      113  27-3-2018 11:36  27-3-2018 11:36   \n",
       "2  CC:78:AB:15:3F:BE    11893  10-8-2017 12:15  10-8-2017 11:07   \n",
       "3  CC:78:AB:15:3F:BE    11893  10-8-2017 12:20  10-8-2017 12:15   \n",
       "4  CC:78:AB:15:3F:BE    11893   1-3-2018 10:03   1-3-2018 10:00   \n",
       "\n",
       "                  ToLat                ToLon ToSite               FromLat  \\\n",
       "0  -633,719,342,811,063  106,681,715,844,319    626  -633,719,342,811,063   \n",
       "1  -633,719,342,811,063  106,681,715,844,319    626  -633,719,342,811,063   \n",
       "2           519,985,246           42,281,868    672    52,238,390,688,236   \n",
       "3    52,238,390,688,236   61,737,412,753,937    605           519,985,246   \n",
       "4            51,581,011            5,310,742    758    52,238,390,688,236   \n",
       "\n",
       "               FromLon  \n",
       "0  106,681,715,844,319  \n",
       "1  106,681,715,844,319  \n",
       "2   61,737,412,753,937  \n",
       "3           42,281,868  \n",
       "4   61,737,412,753,937  \n",
       "\n",
       "[5 rows x 21 columns]"
      ]
     },
     "execution_count": 2,
     "metadata": {},
     "output_type": "execute_result"
    }
   ],
   "source": [
    "df = pd.read_csv('EventsTest.csv', sep=';')\n",
    "df.head()"
   ]
  },
  {
   "cell_type": "code",
   "execution_count": 3,
   "id": "f6a14cb4-08e8-4e43-afce-29c5dd5b19df",
   "metadata": {
    "extensions": {
     "jupyter_dashboards": {
      "version": 1,
      "views": {
       "grid_default": {},
       "report_default": {
        "hidden": false
       }
      }
     }
    }
   },
   "outputs": [
    {
     "data": {
      "text/plain": [
       "Index(['eventtimestamp', 'dataid', 'alertFlags', 'batteryLevel',\n",
       "       'signalStrength', 'temperature', 'macaddress', 'timestampgateway1',\n",
       "       'gatewayid1', 'messagetimestamp', 'assetid', 'id', 'macaddress2',\n",
       "       'asssetid', 'arrivalTime', 'DepartureTime', 'ToLat', 'ToLon', 'ToSite',\n",
       "       'FromLat', 'FromLon'],\n",
       "      dtype='object')"
      ]
     },
     "execution_count": 3,
     "metadata": {},
     "output_type": "execute_result"
    }
   ],
   "source": [
    "df.columns"
   ]
  },
  {
   "cell_type": "code",
   "execution_count": 4,
   "id": "476ce79d-9261-4827-b560-4a272bc6219a",
   "metadata": {
    "extensions": {
     "jupyter_dashboards": {
      "version": 1,
      "views": {
       "grid_default": {},
       "report_default": {
        "hidden": false
       }
      }
     }
    }
   },
   "outputs": [
    {
     "data": {
      "text/html": [
       "<div>\n",
       "<style scoped>\n",
       "    .dataframe tbody tr th:only-of-type {\n",
       "        vertical-align: middle;\n",
       "    }\n",
       "\n",
       "    .dataframe tbody tr th {\n",
       "        vertical-align: top;\n",
       "    }\n",
       "\n",
       "    .dataframe thead th {\n",
       "        text-align: right;\n",
       "    }\n",
       "</style>\n",
       "<table border=\"1\" class=\"dataframe\">\n",
       "  <thead>\n",
       "    <tr style=\"text-align: right;\">\n",
       "      <th></th>\n",
       "      <th>alertFlags</th>\n",
       "      <th>batteryLevel</th>\n",
       "      <th>signalStrength</th>\n",
       "      <th>temperature</th>\n",
       "    </tr>\n",
       "  </thead>\n",
       "  <tbody>\n",
       "    <tr>\n",
       "      <th>0</th>\n",
       "      <td>7</td>\n",
       "      <td>8</td>\n",
       "      <td>-77</td>\n",
       "      <td>34.0</td>\n",
       "    </tr>\n",
       "    <tr>\n",
       "      <th>1</th>\n",
       "      <td>7</td>\n",
       "      <td>8</td>\n",
       "      <td>-77</td>\n",
       "      <td>33.5</td>\n",
       "    </tr>\n",
       "    <tr>\n",
       "      <th>2</th>\n",
       "      <td>5</td>\n",
       "      <td>6</td>\n",
       "      <td>-80</td>\n",
       "      <td>33.5</td>\n",
       "    </tr>\n",
       "    <tr>\n",
       "      <th>3</th>\n",
       "      <td>5</td>\n",
       "      <td>6</td>\n",
       "      <td>-80</td>\n",
       "      <td>33.5</td>\n",
       "    </tr>\n",
       "    <tr>\n",
       "      <th>4</th>\n",
       "      <td>5</td>\n",
       "      <td>6</td>\n",
       "      <td>-80</td>\n",
       "      <td>33.5</td>\n",
       "    </tr>\n",
       "  </tbody>\n",
       "</table>\n",
       "</div>"
      ],
      "text/plain": [
       "   alertFlags  batteryLevel  signalStrength  temperature\n",
       "0           7             8             -77         34.0\n",
       "1           7             8             -77         33.5\n",
       "2           5             6             -80         33.5\n",
       "3           5             6             -80         33.5\n",
       "4           5             6             -80         33.5"
      ]
     },
     "execution_count": 4,
     "metadata": {},
     "output_type": "execute_result"
    }
   ],
   "source": [
    "new_df = df[['alertFlags', 'batteryLevel','signalStrength', 'temperature']]\n",
    "new_df.head()"
   ]
  },
  {
   "cell_type": "code",
   "execution_count": 5,
   "id": "fa5a7802-c689-4ca0-8a24-be075abf8b0a",
   "metadata": {
    "extensions": {
     "jupyter_dashboards": {
      "version": 1,
      "views": {
       "grid_default": {},
       "report_default": {
        "hidden": false
       }
      }
     }
    }
   },
   "outputs": [
    {
     "data": {
      "text/plain": [
       "<AxesSubplot:xlabel='alertFlags', ylabel='temperature'>"
      ]
     },
     "execution_count": 5,
     "metadata": {},
     "output_type": "execute_result"
    },
    {
     "data": {
      "image/png": "[encoded data removed]",
      "text/plain": [
       "<Figure size 864x576 with 1 Axes>"
      ]
     },
     "metadata": {
      "needs_background": "light"
     },
     "output_type": "display_data"
    }
   ],
   "source": [
    "plt.figure(figsize=(12,8))\n",
    "sns.boxplot(data=new_df, x='alertFlags', y='temperature', palette='coolwarm')"
   ]
  },
  {
   "cell_type": "code",
   "execution_count": 6,
   "id": "981bbf1b-a55b-41a7-abfa-116866c272b0",
   "metadata": {
    "extensions": {
     "jupyter_dashboards": {
      "version": 1,
      "views": {
       "grid_default": {},
       "report_default": {
        "hidden": false
       }
      }
     }
    }
   },
   "outputs": [
    {
     "data": {
      "text/plain": [
       "<seaborn.axisgrid.PairGrid at 0x23eab3e2cd0>"
      ]
     },
     "execution_count": 6,
     "metadata": {},
     "output_type": "execute_result"
    },
    {
     "data": {
      "image/png": "[encoded data removed]",
      "text/plain": [
       "<Figure size 720x720 with 20 Axes>"
      ]
     },
     "metadata": {
      "needs_background": "light"
     },
     "output_type": "display_data"
    }
   ],
   "source": [
    "sns.pairplot(new_df)"
   ]
  },
  {
   "cell_type": "code",
   "execution_count": 7,
   "id": "f313e058-b9c7-4b8a-ad78-990c6525077a",
   "metadata": {
    "extensions": {
     "jupyter_dashboards": {
      "version": 1,
      "views": {
       "grid_default": {},
       "report_default": {
        "hidden": true
       }
      }
     }
    }
   },
   "outputs": [],
   "source": [
    "#Scalar "
   ]
  },
  {
   "cell_type": "code",
   "execution_count": 8,
   "id": "f7a865b5-e9e2-4581-915d-adf1ca25af63",
   "metadata": {
    "extensions": {
     "jupyter_dashboards": {
      "version": 1,
      "views": {
       "grid_default": {},
       "report_default": {
        "hidden": true
       }
      }
     }
    }
   },
   "outputs": [],
   "source": [
    "from sklearn.preprocessing import StandardScaler"
   ]
  },
  {
   "cell_type": "code",
   "execution_count": 9,
   "id": "efd12845-a824-494b-ae27-7b2010dc9b4a",
   "metadata": {
    "extensions": {
     "jupyter_dashboards": {
      "version": 1,
      "views": {
       "grid_default": {},
       "report_default": {
        "hidden": true
       }
      }
     }
    }
   },
   "outputs": [],
   "source": [
    "scaler = StandardScaler()"
   ]
  },
  {
   "cell_type": "code",
   "execution_count": 10,
   "id": "46757eda-3c6b-41cf-be22-1f65b02e7df6",
   "metadata": {
    "extensions": {
     "jupyter_dashboards": {
      "version": 1,
      "views": {
       "grid_default": {},
       "report_default": {
        "hidden": false
       }
      }
     }
    }
   },
   "outputs": [
    {
     "data": {
      "text/plain": [
       "StandardScaler()"
      ]
     },
     "execution_count": 10,
     "metadata": {},
     "output_type": "execute_result"
    }
   ],
   "source": [
    "scaler.fit(new_df.drop('alertFlags', axis=1))"
   ]
  },
  {
   "cell_type": "code",
   "execution_count": 11,
   "id": "1d30aa47-03e8-4efe-bd01-72539018aff8",
   "metadata": {
    "extensions": {
     "jupyter_dashboards": {
      "version": 1,
      "views": {
       "grid_default": {},
       "report_default": {
        "hidden": true
       }
      }
     }
    }
   },
   "outputs": [],
   "source": [
    "scaled_features1 = scaler.fit_transform(new_df.drop('alertFlags', axis=1))"
   ]
  },
  {
   "cell_type": "code",
   "execution_count": 12,
   "id": "52cad623-4899-468e-8b50-00de5416b36a",
   "metadata": {
    "extensions": {
     "jupyter_dashboards": {
      "version": 1,
      "views": {
       "grid_default": {},
       "report_default": {
        "hidden": true
       }
      }
     }
    }
   },
   "outputs": [],
   "source": [
    "scalar_df = pd.DataFrame(scaled_features1, columns=new_df.columns[:-1])"
   ]
  },
  {
   "cell_type": "code",
   "execution_count": 13,
   "id": "584884c4-a079-42e3-9fff-d1b1152d0539",
   "metadata": {
    "extensions": {
     "jupyter_dashboards": {
      "version": 1,
      "views": {
       "grid_default": {},
       "report_default": {
        "hidden": false
       }
      }
     }
    }
   },
   "outputs": [
    {
     "data": {
      "text/html": [
       "<div>\n",
       "<style scoped>\n",
       "    .dataframe tbody tr th:only-of-type {\n",
       "        vertical-align: middle;\n",
       "    }\n",
       "\n",
       "    .dataframe tbody tr th {\n",
       "        vertical-align: top;\n",
       "    }\n",
       "\n",
       "    .dataframe thead th {\n",
       "        text-align: right;\n",
       "    }\n",
       "</style>\n",
       "<table border=\"1\" class=\"dataframe\">\n",
       "  <thead>\n",
       "    <tr style=\"text-align: right;\">\n",
       "      <th></th>\n",
       "      <th>alertFlags</th>\n",
       "      <th>batteryLevel</th>\n",
       "      <th>signalStrength</th>\n",
       "    </tr>\n",
       "  </thead>\n",
       "  <tbody>\n",
       "    <tr>\n",
       "      <th>0</th>\n",
       "      <td>1.953013</td>\n",
       "      <td>0.114618</td>\n",
       "      <td>3.840550</td>\n",
       "    </tr>\n",
       "    <tr>\n",
       "      <th>1</th>\n",
       "      <td>1.953013</td>\n",
       "      <td>0.114618</td>\n",
       "      <td>3.732307</td>\n",
       "    </tr>\n",
       "    <tr>\n",
       "      <th>2</th>\n",
       "      <td>1.004286</td>\n",
       "      <td>-0.170366</td>\n",
       "      <td>3.732307</td>\n",
       "    </tr>\n",
       "    <tr>\n",
       "      <th>3</th>\n",
       "      <td>1.004286</td>\n",
       "      <td>-0.170366</td>\n",
       "      <td>3.732307</td>\n",
       "    </tr>\n",
       "    <tr>\n",
       "      <th>4</th>\n",
       "      <td>1.004286</td>\n",
       "      <td>-0.170366</td>\n",
       "      <td>3.732307</td>\n",
       "    </tr>\n",
       "    <tr>\n",
       "      <th>...</th>\n",
       "      <td>...</td>\n",
       "      <td>...</td>\n",
       "      <td>...</td>\n",
       "    </tr>\n",
       "    <tr>\n",
       "      <th>987771</th>\n",
       "      <td>0.055559</td>\n",
       "      <td>-0.835328</td>\n",
       "      <td>-5.360078</td>\n",
       "    </tr>\n",
       "    <tr>\n",
       "      <th>987772</th>\n",
       "      <td>0.055559</td>\n",
       "      <td>-0.835328</td>\n",
       "      <td>-5.360078</td>\n",
       "    </tr>\n",
       "    <tr>\n",
       "      <th>987773</th>\n",
       "      <td>0.055559</td>\n",
       "      <td>-0.835328</td>\n",
       "      <td>-5.360078</td>\n",
       "    </tr>\n",
       "    <tr>\n",
       "      <th>987774</th>\n",
       "      <td>0.055559</td>\n",
       "      <td>-0.835328</td>\n",
       "      <td>-5.360078</td>\n",
       "    </tr>\n",
       "    <tr>\n",
       "      <th>987775</th>\n",
       "      <td>0.055559</td>\n",
       "      <td>-0.835328</td>\n",
       "      <td>-5.360078</td>\n",
       "    </tr>\n",
       "  </tbody>\n",
       "</table>\n",
       "<p>987776 rows × 3 columns</p>\n",
       "</div>"
      ],
      "text/plain": [
       "        alertFlags  batteryLevel  signalStrength\n",
       "0         1.953013      0.114618        3.840550\n",
       "1         1.953013      0.114618        3.732307\n",
       "2         1.004286     -0.170366        3.732307\n",
       "3         1.004286     -0.170366        3.732307\n",
       "4         1.004286     -0.170366        3.732307\n",
       "...            ...           ...             ...\n",
       "987771    0.055559     -0.835328       -5.360078\n",
       "987772    0.055559     -0.835328       -5.360078\n",
       "987773    0.055559     -0.835328       -5.360078\n",
       "987774    0.055559     -0.835328       -5.360078\n",
       "987775    0.055559     -0.835328       -5.360078\n",
       "\n",
       "[987776 rows x 3 columns]"
      ]
     },
     "execution_count": 13,
     "metadata": {},
     "output_type": "execute_result"
    }
   ],
   "source": [
    "scalar_df"
   ]
  },
  {
   "cell_type": "code",
   "execution_count": 14,
   "id": "307e8665-9a62-4253-8769-c3f08fc6cc20",
   "metadata": {
    "extensions": {
     "jupyter_dashboards": {
      "version": 1,
      "views": {
       "grid_default": {},
       "report_default": {
        "hidden": true
       }
      }
     }
    }
   },
   "outputs": [],
   "source": [
    "#Build model"
   ]
  },
  {
   "cell_type": "code",
   "execution_count": 15,
   "id": "20a35104-79a6-41c8-a482-b30d9821bf5a",
   "metadata": {
    "extensions": {
     "jupyter_dashboards": {
      "version": 1,
      "views": {
       "grid_default": {},
       "report_default": {
        "hidden": true
       }
      }
     }
    }
   },
   "outputs": [],
   "source": [
    "scalar_df.drop('alertFlags', axis=1, inplace=True)"
   ]
  },
  {
   "cell_type": "code",
   "execution_count": 16,
   "id": "0b4b8b21-7a6b-4e7f-b75c-6666df8b87c7",
   "metadata": {
    "extensions": {
     "jupyter_dashboards": {
      "version": 1,
      "views": {
       "grid_default": {},
       "report_default": {
        "hidden": false
       }
      }
     }
    }
   },
   "outputs": [
    {
     "data": {
      "text/html": [
       "<div>\n",
       "<style scoped>\n",
       "    .dataframe tbody tr th:only-of-type {\n",
       "        vertical-align: middle;\n",
       "    }\n",
       "\n",
       "    .dataframe tbody tr th {\n",
       "        vertical-align: top;\n",
       "    }\n",
       "\n",
       "    .dataframe thead th {\n",
       "        text-align: right;\n",
       "    }\n",
       "</style>\n",
       "<table border=\"1\" class=\"dataframe\">\n",
       "  <thead>\n",
       "    <tr style=\"text-align: right;\">\n",
       "      <th></th>\n",
       "      <th>batteryLevel</th>\n",
       "      <th>signalStrength</th>\n",
       "    </tr>\n",
       "  </thead>\n",
       "  <tbody>\n",
       "    <tr>\n",
       "      <th>0</th>\n",
       "      <td>0.114618</td>\n",
       "      <td>3.840550</td>\n",
       "    </tr>\n",
       "    <tr>\n",
       "      <th>1</th>\n",
       "      <td>0.114618</td>\n",
       "      <td>3.732307</td>\n",
       "    </tr>\n",
       "    <tr>\n",
       "      <th>2</th>\n",
       "      <td>-0.170366</td>\n",
       "      <td>3.732307</td>\n",
       "    </tr>\n",
       "    <tr>\n",
       "      <th>3</th>\n",
       "      <td>-0.170366</td>\n",
       "      <td>3.732307</td>\n",
       "    </tr>\n",
       "    <tr>\n",
       "      <th>4</th>\n",
       "      <td>-0.170366</td>\n",
       "      <td>3.732307</td>\n",
       "    </tr>\n",
       "    <tr>\n",
       "      <th>...</th>\n",
       "      <td>...</td>\n",
       "      <td>...</td>\n",
       "    </tr>\n",
       "    <tr>\n",
       "      <th>987771</th>\n",
       "      <td>-0.835328</td>\n",
       "      <td>-5.360078</td>\n",
       "    </tr>\n",
       "    <tr>\n",
       "      <th>987772</th>\n",
       "      <td>-0.835328</td>\n",
       "      <td>-5.360078</td>\n",
       "    </tr>\n",
       "    <tr>\n",
       "      <th>987773</th>\n",
       "      <td>-0.835328</td>\n",
       "      <td>-5.360078</td>\n",
       "    </tr>\n",
       "    <tr>\n",
       "      <th>987774</th>\n",
       "      <td>-0.835328</td>\n",
       "      <td>-5.360078</td>\n",
       "    </tr>\n",
       "    <tr>\n",
       "      <th>987775</th>\n",
       "      <td>-0.835328</td>\n",
       "      <td>-5.360078</td>\n",
       "    </tr>\n",
       "  </tbody>\n",
       "</table>\n",
       "<p>987776 rows × 2 columns</p>\n",
       "</div>"
      ],
      "text/plain": [
       "        batteryLevel  signalStrength\n",
       "0           0.114618        3.840550\n",
       "1           0.114618        3.732307\n",
       "2          -0.170366        3.732307\n",
       "3          -0.170366        3.732307\n",
       "4          -0.170366        3.732307\n",
       "...              ...             ...\n",
       "987771     -0.835328       -5.360078\n",
       "987772     -0.835328       -5.360078\n",
       "987773     -0.835328       -5.360078\n",
       "987774     -0.835328       -5.360078\n",
       "987775     -0.835328       -5.360078\n",
       "\n",
       "[987776 rows x 2 columns]"
      ]
     },
     "execution_count": 16,
     "metadata": {},
     "output_type": "execute_result"
    }
   ],
   "source": [
    "scalar_df"
   ]
  },
  {
   "cell_type": "code",
   "execution_count": 17,
   "id": "f43dccd8-7e0c-48a2-9a2f-1719e1cc8069",
   "metadata": {
    "extensions": {
     "jupyter_dashboards": {
      "version": 1,
      "views": {
       "grid_default": {},
       "report_default": {
        "hidden": false
       }
      }
     }
    }
   },
   "outputs": [
    {
     "data": {
      "text/html": [
       "<div>\n",
       "<style scoped>\n",
       "    .dataframe tbody tr th:only-of-type {\n",
       "        vertical-align: middle;\n",
       "    }\n",
       "\n",
       "    .dataframe tbody tr th {\n",
       "        vertical-align: top;\n",
       "    }\n",
       "\n",
       "    .dataframe thead th {\n",
       "        text-align: right;\n",
       "    }\n",
       "</style>\n",
       "<table border=\"1\" class=\"dataframe\">\n",
       "  <thead>\n",
       "    <tr style=\"text-align: right;\">\n",
       "      <th></th>\n",
       "      <th>batteryLevel</th>\n",
       "      <th>signalStrength</th>\n",
       "    </tr>\n",
       "  </thead>\n",
       "  <tbody>\n",
       "    <tr>\n",
       "      <th>0</th>\n",
       "      <td>0.114618</td>\n",
       "      <td>3.840550</td>\n",
       "    </tr>\n",
       "    <tr>\n",
       "      <th>1</th>\n",
       "      <td>0.114618</td>\n",
       "      <td>3.732307</td>\n",
       "    </tr>\n",
       "    <tr>\n",
       "      <th>2</th>\n",
       "      <td>-0.170366</td>\n",
       "      <td>3.732307</td>\n",
       "    </tr>\n",
       "    <tr>\n",
       "      <th>3</th>\n",
       "      <td>-0.170366</td>\n",
       "      <td>3.732307</td>\n",
       "    </tr>\n",
       "    <tr>\n",
       "      <th>4</th>\n",
       "      <td>-0.170366</td>\n",
       "      <td>3.732307</td>\n",
       "    </tr>\n",
       "    <tr>\n",
       "      <th>...</th>\n",
       "      <td>...</td>\n",
       "      <td>...</td>\n",
       "    </tr>\n",
       "    <tr>\n",
       "      <th>987771</th>\n",
       "      <td>-0.835328</td>\n",
       "      <td>-5.360078</td>\n",
       "    </tr>\n",
       "    <tr>\n",
       "      <th>987772</th>\n",
       "      <td>-0.835328</td>\n",
       "      <td>-5.360078</td>\n",
       "    </tr>\n",
       "    <tr>\n",
       "      <th>987773</th>\n",
       "      <td>-0.835328</td>\n",
       "      <td>-5.360078</td>\n",
       "    </tr>\n",
       "    <tr>\n",
       "      <th>987774</th>\n",
       "      <td>-0.835328</td>\n",
       "      <td>-5.360078</td>\n",
       "    </tr>\n",
       "    <tr>\n",
       "      <th>987775</th>\n",
       "      <td>-0.835328</td>\n",
       "      <td>-5.360078</td>\n",
       "    </tr>\n",
       "  </tbody>\n",
       "</table>\n",
       "<p>987776 rows × 2 columns</p>\n",
       "</div>"
      ],
      "text/plain": [
       "        batteryLevel  signalStrength\n",
       "0           0.114618        3.840550\n",
       "1           0.114618        3.732307\n",
       "2          -0.170366        3.732307\n",
       "3          -0.170366        3.732307\n",
       "4          -0.170366        3.732307\n",
       "...              ...             ...\n",
       "987771     -0.835328       -5.360078\n",
       "987772     -0.835328       -5.360078\n",
       "987773     -0.835328       -5.360078\n",
       "987774     -0.835328       -5.360078\n",
       "987775     -0.835328       -5.360078\n",
       "\n",
       "[987776 rows x 2 columns]"
      ]
     },
     "execution_count": 17,
     "metadata": {},
     "output_type": "execute_result"
    }
   ],
   "source": [
    "scalar_df"
   ]
  },
  {
   "cell_type": "code",
   "execution_count": 18,
   "id": "a91d7682-a71c-4543-b607-c25c8bb71d71",
   "metadata": {
    "extensions": {
     "jupyter_dashboards": {
      "version": 1,
      "views": {
       "grid_default": {},
       "report_default": {
        "hidden": true
       }
      }
     }
    }
   },
   "outputs": [],
   "source": [
    "#TRain test split"
   ]
  },
  {
   "cell_type": "code",
   "execution_count": 19,
   "id": "1950f588-7303-48a7-b2d3-5d869ab73cc0",
   "metadata": {
    "extensions": {
     "jupyter_dashboards": {
      "version": 1,
      "views": {
       "grid_default": {},
       "report_default": {
        "hidden": true
       }
      }
     }
    }
   },
   "outputs": [],
   "source": [
    "from sklearn.model_selection import train_test_split"
   ]
  },
  {
   "cell_type": "code",
   "execution_count": 20,
   "id": "b2e2202a-4471-4e36-8269-d392ada8e7e7",
   "metadata": {
    "extensions": {
     "jupyter_dashboards": {
      "version": 1,
      "views": {
       "grid_default": {},
       "report_default": {
        "hidden": true
       }
      }
     }
    }
   },
   "outputs": [],
   "source": [
    "X = scalar_df"
   ]
  },
  {
   "cell_type": "code",
   "execution_count": 21,
   "id": "34084fb4-d1f9-45d6-8a1f-4f420d0c6d8d",
   "metadata": {
    "extensions": {
     "jupyter_dashboards": {
      "version": 1,
      "views": {
       "grid_default": {},
       "report_default": {
        "hidden": true
       }
      }
     }
    }
   },
   "outputs": [],
   "source": [
    "y= new_df['alertFlags']"
   ]
  },
  {
   "cell_type": "code",
   "execution_count": 22,
   "id": "26cd1021-a3cd-4e76-8313-2ffe874e0460",
   "metadata": {
    "extensions": {
     "jupyter_dashboards": {
      "version": 1,
      "views": {
       "grid_default": {},
       "report_default": {
        "hidden": true
       }
      }
     }
    }
   },
   "outputs": [],
   "source": [
    "X_train, X_test, y_train, y_test = train_test_split(X,y, test_size=0.3)"
   ]
  },
  {
   "cell_type": "code",
   "execution_count": 23,
   "id": "fa369a61-eb73-49d7-92bd-8a16c433ffc8",
   "metadata": {
    "extensions": {
     "jupyter_dashboards": {
      "version": 1,
      "views": {
       "grid_default": {},
       "report_default": {
        "hidden": false
       }
      }
     }
    }
   },
   "outputs": [
    {
     "data": {
      "text/plain": [
       "<function sklearn.model_selection._split.train_test_split(*arrays, test_size=None, train_size=None, random_state=None, shuffle=True, stratify=None)>"
      ]
     },
     "execution_count": 23,
     "metadata": {},
     "output_type": "execute_result"
    }
   ],
   "source": [
    "train_test_split"
   ]
  },
  {
   "cell_type": "code",
   "execution_count": 24,
   "id": "84678099-52ae-4bb0-84fd-ab262c7ee9de",
   "metadata": {
    "extensions": {
     "jupyter_dashboards": {
      "version": 1,
      "views": {
       "grid_default": {},
       "report_default": {
        "hidden": true
       }
      }
     }
    }
   },
   "outputs": [],
   "source": [
    "#Build model"
   ]
  },
  {
   "cell_type": "code",
   "execution_count": 25,
   "id": "8d7af63a-2851-4cac-bbe4-d49cd2802148",
   "metadata": {
    "extensions": {
     "jupyter_dashboards": {
      "version": 1,
      "views": {
       "grid_default": {},
       "report_default": {
        "hidden": true
       }
      }
     }
    }
   },
   "outputs": [],
   "source": [
    "from sklearn.neighbors import KNeighborsClassifier"
   ]
  },
  {
   "cell_type": "code",
   "execution_count": 26,
   "id": "26fa8be9-4bb1-4640-802d-358c1db840f3",
   "metadata": {
    "extensions": {
     "jupyter_dashboards": {
      "version": 1,
      "views": {
       "grid_default": {},
       "report_default": {
        "hidden": true
       }
      }
     }
    }
   },
   "outputs": [],
   "source": [
    "knn_model = KNeighborsClassifier(n_neighbors=1)"
   ]
  },
  {
   "cell_type": "code",
   "execution_count": 27,
   "id": "ad903dda-165a-4575-826e-f4d549e431af",
   "metadata": {
    "extensions": {
     "jupyter_dashboards": {
      "version": 1,
      "views": {
       "grid_default": {},
       "report_default": {
        "hidden": false
       }
      }
     }
    }
   },
   "outputs": [
    {
     "data": {
      "text/plain": [
       "KNeighborsClassifier(n_neighbors=1)"
      ]
     },
     "execution_count": 27,
     "metadata": {},
     "output_type": "execute_result"
    }
   ],
   "source": [
    "knn_model.fit(X_train,y_train)"
   ]
  },
  {
   "cell_type": "code",
   "execution_count": 28,
   "id": "d9919cb9-c6c0-4f84-a88a-8da0e5b5115e",
   "metadata": {
    "extensions": {
     "jupyter_dashboards": {
      "version": 1,
      "views": {
       "grid_default": {},
       "report_default": {
        "hidden": true
       }
      }
     }
    }
   },
   "outputs": [],
   "source": [
    "#predictions"
   ]
  },
  {
   "cell_type": "code",
   "execution_count": 29,
   "id": "e71b4190-2faf-404f-9849-5b6c5bb9480e",
   "metadata": {
    "extensions": {
     "jupyter_dashboards": {
      "version": 1,
      "views": {
       "grid_default": {},
       "report_default": {
        "hidden": true
       }
      }
     }
    }
   },
   "outputs": [],
   "source": [
    "knn_predictions = knn_model.predict(X_test)"
   ]
  },
  {
   "cell_type": "code",
   "execution_count": 30,
   "id": "99676b29-74b4-4f3d-b0d6-af5aff3fa406",
   "metadata": {
    "extensions": {
     "jupyter_dashboards": {
      "version": 1,
      "views": {
       "grid_default": {},
       "report_default": {
        "hidden": false
       }
      }
     }
    }
   },
   "outputs": [
    {
     "data": {
      "text/plain": [
       "array([0, 5, 5, ..., 5, 5, 5], dtype=int64)"
      ]
     },
     "execution_count": 30,
     "metadata": {},
     "output_type": "execute_result"
    }
   ],
   "source": [
    "knn_predictions"
   ]
  },
  {
   "cell_type": "code",
   "execution_count": 31,
   "id": "07336116-e6c1-4eeb-8097-eec4e2071e4e",
   "metadata": {
    "extensions": {
     "jupyter_dashboards": {
      "version": 1,
      "views": {
       "grid_default": {},
       "report_default": {
        "hidden": true
       }
      }
     }
    }
   },
   "outputs": [],
   "source": [
    "np.savetxt('Predictions-Events-KNNalgorithm.csv', knn_predictions, '%s')"
   ]
  },
  {
   "cell_type": "code",
   "execution_count": 32,
   "id": "133b1b49-bfc0-48e0-b786-e4379800d2d3",
   "metadata": {
    "extensions": {
     "jupyter_dashboards": {
      "version": 1,
      "views": {
       "grid_default": {},
       "report_default": {
        "hidden": true
       }
      }
     }
    }
   },
   "outputs": [],
   "source": [
    "#Evaluation "
   ]
  },
  {
   "cell_type": "code",
   "execution_count": 33,
   "id": "8f7ef560-4c8d-424c-916a-2101ccd2f5f7",
   "metadata": {
    "extensions": {
     "jupyter_dashboards": {
      "version": 1,
      "views": {
       "grid_default": {},
       "report_default": {
        "hidden": true
       }
      }
     }
    }
   },
   "outputs": [],
   "source": [
    "from sklearn.metrics import classification_report, confusion_matrix"
   ]
  },
  {
   "cell_type": "code",
   "execution_count": 34,
   "id": "a21a4db4-8b2f-44db-b9a4-fec5d1ac2b70",
   "metadata": {
    "extensions": {
     "jupyter_dashboards": {
      "version": 1,
      "views": {
       "grid_default": {},
       "report_default": {
        "hidden": false
       }
      }
     }
    }
   },
   "outputs": [
    {
     "name": "stdout",
     "output_type": "stream",
     "text": [
      "              precision    recall  f1-score   support\n",
      "\n",
      "           0       0.30      0.36      0.33     34717\n",
      "           1       0.60      0.56      0.58    104966\n",
      "           2       0.21      0.18      0.19      1915\n",
      "           3       0.44      0.39      0.41     16296\n",
      "           4       0.73      0.18      0.30       119\n",
      "           5       0.68      0.69      0.69    135652\n",
      "           7       0.22      0.23      0.22      2668\n",
      "\n",
      "    accuracy                           0.58    296333\n",
      "   macro avg       0.45      0.37      0.39    296333\n",
      "weighted avg       0.59      0.58      0.59    296333\n",
      "\n"
     ]
    }
   ],
   "source": [
    "print(classification_report(y_test, knn_predictions))"
   ]
  },
  {
   "cell_type": "code",
   "execution_count": 35,
   "id": "62a41df9-ea95-47da-b9e9-9544bde3b785",
   "metadata": {
    "extensions": {
     "jupyter_dashboards": {
      "version": 1,
      "views": {
       "grid_default": {},
       "report_default": {
        "hidden": false
       }
      }
     }
    }
   },
   "outputs": [
    {
     "name": "stdout",
     "output_type": "stream",
     "text": [
      "[[12443  9109   614  2205     1  9838   507]\n",
      " [13780 58910   352  2255     1 28889   779]\n",
      " [  486   555   346    93     0   398    37]\n",
      " [ 3040  2911    63  6379     0  3751   152]\n",
      " [   50    18     0     1    22    26     2]\n",
      " [10992 26129   287  3388     1 94159   696]\n",
      " [  442   579    24   197     5   809   612]]\n"
     ]
    }
   ],
   "source": [
    "print(confusion_matrix(y_test, knn_predictions))"
   ]
  },
  {
   "cell_type": "code",
   "execution_count": 36,
   "id": "036a6174-b4cc-4433-b256-e204e266a984",
   "metadata": {
    "extensions": {
     "jupyter_dashboards": {
      "version": 1,
      "views": {
       "grid_default": {},
       "report_default": {
        "hidden": true
       }
      }
     }
    }
   },
   "outputs": [],
   "source": [
    "matrix = confusion_matrix(y_test, knn_predictions)"
   ]
  },
  {
   "cell_type": "code",
   "execution_count": 37,
   "id": "2d98cb78-473d-4f49-8d0f-cf21c6824c2d",
   "metadata": {
    "extensions": {
     "jupyter_dashboards": {
      "version": 1,
      "views": {
       "grid_default": {},
       "report_default": {
        "hidden": false
       }
      }
     }
    }
   },
   "outputs": [
    {
     "data": {
      "text/plain": [
       "<AxesSubplot:>"
      ]
     },
     "execution_count": 37,
     "metadata": {},
     "output_type": "execute_result"
    },
    {
     "data": {
      "image/png": "[encoded data removed]",
      "text/plain": [
       "<Figure size 864x720 with 1 Axes>"
      ]
     },
     "metadata": {
      "needs_background": "light"
     },
     "output_type": "display_data"
    }
   ],
   "source": [
    "plt.figure(figsize=(12,10))\n",
    "sns.heatmap(matrix, square=True, annot=True, cmap='Blues', cbar=False, fmt='d')"
   ]
  },
  {
   "cell_type": "code",
   "execution_count": 38,
   "id": "62c8d028-cc97-4a2a-816f-e75e81cb935a",
   "metadata": {
    "extensions": {
     "jupyter_dashboards": {
      "version": 1,
      "views": {
       "grid_default": {},
       "report_default": {
        "hidden": true
       }
      }
     }
    }
   },
   "outputs": [],
   "source": [
    "error_rate = []\n",
    "\n",
    "for i in range(1,40):\n",
    "    knn_model = KNeighborsClassifier(n_neighbors=i)\n",
    "    knn_model.fit(X_train, y_train)\n",
    "    knn_predictions = knn_model.predict(X_test)\n",
    "    error_rate.append(np.mean(y_test!=knn_predictions))"
   ]
  },
  {
   "cell_type": "code",
   "execution_count": 43,
   "id": "a5b90beb-631d-4e39-a795-c14fe442a89c",
   "metadata": {
    "extensions": {
     "jupyter_dashboards": {
      "version": 1,
      "views": {
       "grid_default": {},
       "report_default": {
        "hidden": false
       }
      }
     }
    }
   },
   "outputs": [
    {
     "data": {
      "text/plain": [
       "Text(0.5, 1.0, 'Error rate vs. K-value')"
      ]
     },
     "execution_count": 43,
     "metadata": {},
     "output_type": "execute_result"
    },
    {
     "data": {
      "image/png": "[encoded data removed]",
      "text/plain": [
       "<Figure size 1008x720 with 1 Axes>"
      ]
     },
     "metadata": {
      "needs_background": "light"
     },
     "output_type": "display_data"
    }
   ],
   "source": [
    "plt.figure(figsize=(14,10))\n",
    "plt.plot(range(1,40), error_rate, color='blue', marker='o', markerfacecolor='red', markersize=10, linestyle='dashed')\n",
    "plt.xlabel('K-value')\n",
    "plt.ylabel('Error-rate')\n",
    "plt.title('Error rate vs. K-value')"
   ]
  },
  {
   "cell_type": "code",
   "execution_count": 44,
   "id": "e1aae204-76c5-4725-9f06-6482a6f6c2bc",
   "metadata": {
    "extensions": {
     "jupyter_dashboards": {
      "version": 1,
      "views": {
       "grid_default": {},
       "report_default": {
        "hidden": true
       }
      }
     }
    }
   },
   "outputs": [],
   "source": [
    "knn_model2 = KNeighborsClassifier(n_neighbors=35)"
   ]
  },
  {
   "cell_type": "code",
   "execution_count": 45,
   "id": "e6becada-44f7-46a7-8acf-3437f43a6d92",
   "metadata": {
    "extensions": {
     "jupyter_dashboards": {
      "version": 1,
      "views": {
       "grid_default": {},
       "report_default": {
        "hidden": false
       }
      }
     }
    }
   },
   "outputs": [
    {
     "data": {
      "text/plain": [
       "KNeighborsClassifier(n_neighbors=35)"
      ]
     },
     "execution_count": 45,
     "metadata": {},
     "output_type": "execute_result"
    }
   ],
   "source": [
    "knn_model2.fit(X_train, y_train)"
   ]
  },
  {
   "cell_type": "code",
   "execution_count": 46,
   "id": "96c2bdbe-0749-466c-8fa2-c105f1f272d0",
   "metadata": {
    "extensions": {
     "jupyter_dashboards": {
      "version": 1,
      "views": {
       "grid_default": {},
       "report_default": {
        "hidden": false
       }
      }
     }
    }
   },
   "outputs": [
    {
     "data": {
      "text/plain": [
       "KNeighborsClassifier(n_neighbors=35)"
      ]
     },
     "execution_count": 46,
     "metadata": {},
     "output_type": "execute_result"
    }
   ],
   "source": [
    "knn_model2"
   ]
  },
  {
   "cell_type": "code",
   "execution_count": 47,
   "id": "e2db20fc-7bda-4ec0-bab8-3b4c70a6c90b",
   "metadata": {
    "extensions": {
     "jupyter_dashboards": {
      "version": 1,
      "views": {
       "grid_default": {},
       "report_default": {
        "hidden": true
       }
      }
     }
    }
   },
   "outputs": [],
   "source": [
    "#Predictions"
   ]
  },
  {
   "cell_type": "code",
   "execution_count": 48,
   "id": "7adebb69-635d-42ea-b3e4-65ce156422bb",
   "metadata": {
    "extensions": {
     "jupyter_dashboards": {
      "version": 1,
      "views": {
       "grid_default": {},
       "report_default": {
        "hidden": true
       }
      }
     }
    }
   },
   "outputs": [],
   "source": [
    "knn_predictions2 = knn_model2.predict(X_test)"
   ]
  },
  {
   "cell_type": "code",
   "execution_count": 49,
   "id": "49e3f2d7-4167-4444-a4b5-e2aa0232409e",
   "metadata": {
    "extensions": {
     "jupyter_dashboards": {
      "version": 1,
      "views": {
       "grid_default": {},
       "report_default": {
        "hidden": false
       }
      }
     }
    }
   },
   "outputs": [
    {
     "data": {
      "text/plain": [
       "array([1, 1, 5, ..., 5, 5, 1], dtype=int64)"
      ]
     },
     "execution_count": 49,
     "metadata": {},
     "output_type": "execute_result"
    }
   ],
   "source": [
    "knn_predictions2"
   ]
  },
  {
   "cell_type": "code",
   "execution_count": 50,
   "id": "4bd17bd8-8ef4-49eb-879a-31909291390e",
   "metadata": {
    "extensions": {
     "jupyter_dashboards": {
      "version": 1,
      "views": {
       "grid_default": {},
       "report_default": {
        "hidden": true
       }
      }
     }
    }
   },
   "outputs": [],
   "source": [
    "np.savetxt('Predictions-Events-KNNalgorithms-2.csv', knn_predictions2, '%s')"
   ]
  },
  {
   "cell_type": "code",
   "execution_count": 51,
   "id": "c4a8a29c-de2f-4428-b1f7-652dfe87894e",
   "metadata": {
    "extensions": {
     "jupyter_dashboards": {
      "version": 1,
      "views": {
       "grid_default": {},
       "report_default": {
        "hidden": true
       }
      }
     }
    }
   },
   "outputs": [],
   "source": [
    "#Evaluation "
   ]
  },
  {
   "cell_type": "code",
   "execution_count": 52,
   "id": "c91722c1-b87c-44ee-95ce-8b4d4e584157",
   "metadata": {
    "extensions": {
     "jupyter_dashboards": {
      "version": 1,
      "views": {
       "grid_default": {},
       "report_default": {
        "hidden": false
       }
      }
     }
    }
   },
   "outputs": [
    {
     "name": "stdout",
     "output_type": "stream",
     "text": [
      "              precision    recall  f1-score   support\n",
      "\n",
      "           0       0.58      0.35      0.44     34717\n",
      "           1       0.67      0.69      0.68    104966\n",
      "           2       0.48      0.16      0.24      1915\n",
      "           3       0.68      0.43      0.53     16296\n",
      "           4       0.41      0.29      0.34       119\n",
      "           5       0.71      0.82      0.76    135652\n",
      "           7       0.66      0.15      0.25      2668\n",
      "\n",
      "    accuracy                           0.69    296333\n",
      "   macro avg       0.60      0.41      0.46    296333\n",
      "weighted avg       0.68      0.69      0.67    296333\n",
      "\n"
     ]
    }
   ],
   "source": [
    "print(classification_report(y_test, knn_predictions2))"
   ]
  },
  {
   "cell_type": "code",
   "execution_count": 54,
   "id": "ad5fac03-f868-43d8-81d3-60568334afee",
   "metadata": {
    "extensions": {
     "jupyter_dashboards": {
      "version": 1,
      "views": {
       "grid_default": {},
       "report_default": {
        "hidden": false
       }
      }
     }
    }
   },
   "outputs": [
    {
     "name": "stdout",
     "output_type": "stream",
     "text": [
      "[[ 12187   9382    133   1160     29  11786     40]\n",
      " [  4135  72333     57   1184     13  27195     49]\n",
      " [   365    585    312     73      0    580      0]\n",
      " [  1456   3001     48   6979      0   4786     26]\n",
      " [    23     25      0      2     35     29      5]\n",
      " [  2529  21164     72    654      9 111141     83]\n",
      " [   456    707     23    213      0    867    402]]\n"
     ]
    }
   ],
   "source": [
    "print(confusion_matrix(y_test, knn_predictions2))"
   ]
  },
  {
   "cell_type": "code",
   "execution_count": 55,
   "id": "c79feeb3-67cf-4cfa-81d7-932764aebdc8",
   "metadata": {
    "extensions": {
     "jupyter_dashboards": {
      "version": 1,
      "views": {
       "grid_default": {},
       "report_default": {
        "hidden": true
       }
      }
     }
    }
   },
   "outputs": [],
   "source": [
    "matrix2 = confusion_matrix(y_test, knn_predictions2)"
   ]
  },
  {
   "cell_type": "code",
   "execution_count": 57,
   "id": "821fe69a-c2b4-4750-b077-6ab6c4e96970",
   "metadata": {
    "extensions": {
     "jupyter_dashboards": {
      "version": 1,
      "views": {
       "grid_default": {},
       "report_default": {
        "hidden": false
       }
      }
     }
    }
   },
   "outputs": [
    {
     "data": {
      "text/plain": [
       "<AxesSubplot:>"
      ]
     },
     "execution_count": 57,
     "metadata": {},
     "output_type": "execute_result"
    },
    {
     "data": {
      "image/png": "[encoded data removed]",
      "text/plain": [
       "<Figure size 1008x576 with 1 Axes>"
      ]
     },
     "metadata": {
      "needs_background": "light"
     },
     "output_type": "display_data"
    }
   ],
   "source": [
    "plt.figure(figsize=(14,8))\n",
    "sns.heatmap(matrix2, square=True, annot=True, cmap='Blues', cbar=False, fmt='d')"
   ]
  },
  {
   "cell_type": "code",
   "execution_count": null,
   "id": "af3dbf41-7457-4781-8c92-4b53d1e93fcf",
   "metadata": {
    "extensions": {
     "jupyter_dashboards": {
      "version": 1,
      "views": {
       "grid_default": {},
       "report_default": {
        "hidden": true
       }
      }
     }
    }
   },
   "outputs": [],
   "source": []
  },
  {
   "cell_type": "code",
   "execution_count": null,
   "id": "472cf133-d982-4b08-bb14-d5eae32b49b8",
   "metadata": {
    "extensions": {
     "jupyter_dashboards": {
      "version": 1,
      "views": {
       "grid_default": {},
       "report_default": {
        "hidden": true
       }
      }
     }
    }
   },
   "outputs": [],
   "source": []
  },
  {
   "cell_type": "code",
   "execution_count": null,
   "id": "6f6c48f1-dd01-4198-90a4-098da3d52349",
   "metadata": {
    "extensions": {
     "jupyter_dashboards": {
      "version": 1,
      "views": {
       "grid_default": {},
       "report_default": {
        "hidden": true
       }
      }
     }
    }
   },
   "outputs": [],
   "source": []
  },
  {
   "cell_type": "code",
   "execution_count": null,
   "id": "76425665-97e4-4185-bad9-1a5e8316b3d3",
   "metadata": {
    "extensions": {
     "jupyter_dashboards": {
      "version": 1,
      "views": {
       "grid_default": {},
       "report_default": {
        "hidden": true
       }
      }
     }
    }
   },
   "outputs": [],
   "source": []
  },
  {
   "cell_type": "code",
   "execution_count": null,
   "id": "566e945a-4c2c-4c44-a36e-1d6ebc1793b8",
   "metadata": {
    "extensions": {
     "jupyter_dashboards": {
      "version": 1,
      "views": {
       "grid_default": {},
       "report_default": {
        "hidden": true
       }
      }
     }
    }
   },
   "outputs": [],
   "source": []
  },
  {
   "cell_type": "code",
   "execution_count": null,
   "id": "65e23873-0bca-4b22-829f-26fe000a2598",
   "metadata": {
    "extensions": {
     "jupyter_dashboards": {
      "version": 1,
      "views": {
       "grid_default": {},
       "report_default": {
        "hidden": true
       }
      }
     }
    }
   },
   "outputs": [],
   "source": []
  },
  {
   "cell_type": "code",
   "execution_count": null,
   "id": "f6f502f6-ec47-44ce-8801-8e7077b8546c",
   "metadata": {
    "extensions": {
     "jupyter_dashboards": {
      "version": 1,
      "views": {
       "grid_default": {},
       "report_default": {
        "hidden": true
       }
      }
     }
    }
   },
   "outputs": [],
   "source": []
  },
  {
   "cell_type": "code",
   "execution_count": null,
   "id": "b607c0f1-648d-4906-b85c-f58d20c4d3e5",
   "metadata": {
    "extensions": {
     "jupyter_dashboards": {
      "version": 1,
      "views": {
       "grid_default": {},
       "report_default": {
        "hidden": true
       }
      }
     }
    }
   },
   "outputs": [],
   "source": []
  },
  {
   "cell_type": "code",
   "execution_count": null,
   "id": "164811d4-c9ae-45d6-90e0-80b8e7d565d1",
   "metadata": {
    "extensions": {
     "jupyter_dashboards": {
      "version": 1,
      "views": {
       "grid_default": {},
       "report_default": {
        "hidden": true
       }
      }
     }
    }
   },
   "outputs": [],
   "source": []
  },
  {
   "cell_type": "code",
   "execution_count": null,
   "id": "0f558a87-589b-41cf-a9c7-6f18a90b24e1",
   "metadata": {
    "extensions": {
     "jupyter_dashboards": {
      "version": 1,
      "views": {
       "grid_default": {},
       "report_default": {
        "hidden": true
       }
      }
     }
    }
   },
   "outputs": [],
   "source": []
  },
  {
   "cell_type": "code",
   "execution_count": null,
   "id": "63fdef95-e382-4e8c-8617-f7d3fc7631e6",
   "metadata": {
    "extensions": {
     "jupyter_dashboards": {
      "version": 1,
      "views": {
       "grid_default": {},
       "report_default": {
        "hidden": true
       }
      }
     }
    }
   },
   "outputs": [],
   "source": []
  },
  {
   "cell_type": "code",
   "execution_count": null,
   "id": "a5cc93f8-405d-459c-9fb1-78a0d94254a6",
   "metadata": {
    "extensions": {
     "jupyter_dashboards": {
      "version": 1,
      "views": {
       "grid_default": {},
       "report_default": {
        "hidden": true
       }
      }
     }
    }
   },
   "outputs": [],
   "source": []
  },
  {
   "cell_type": "code",
   "execution_count": null,
   "id": "781a0525-0216-46c1-bd55-a9c7e501ba34",
   "metadata": {
    "extensions": {
     "jupyter_dashboards": {
      "version": 1,
      "views": {
       "grid_default": {},
       "report_default": {
        "hidden": true
       }
      }
     }
    }
   },
   "outputs": [],
   "source": []
  },
  {
   "cell_type": "code",
   "execution_count": null,
   "id": "e45f184b-8bbc-4e25-bcd5-f79ae323a052",
   "metadata": {
    "extensions": {
     "jupyter_dashboards": {
      "version": 1,
      "views": {
       "grid_default": {},
       "report_default": {
        "hidden": true
       }
      }
     }
    }
   },
   "outputs": [],
   "source": []
  },
  {
   "cell_type": "code",
   "execution_count": null,
   "id": "1fb76016-2d4a-4677-87c9-cd228725eb4c",
   "metadata": {
    "extensions": {
     "jupyter_dashboards": {
      "version": 1,
      "views": {
       "grid_default": {},
       "report_default": {
        "hidden": true
       }
      }
     }
    }
   },
   "outputs": [],
   "source": []
  },
  {
   "cell_type": "code",
   "execution_count": null,
   "id": "df7938ba-6c65-4c5b-bb0f-79363b0b300d",
   "metadata": {
    "extensions": {
     "jupyter_dashboards": {
      "version": 1,
      "views": {
       "grid_default": {},
       "report_default": {
        "hidden": true
       }
      }
     }
    }
   },
   "outputs": [],
   "source": []
  },
  {
   "cell_type": "code",
   "execution_count": null,
   "id": "1f5977c5-b62c-49fa-abcb-6c703a7ec159",
   "metadata": {
    "extensions": {
     "jupyter_dashboards": {
      "version": 1,
      "views": {
       "grid_default": {},
       "report_default": {
        "hidden": true
       }
      }
     }
    }
   },
   "outputs": [],
   "source": []
  },
  {
   "cell_type": "code",
   "execution_count": null,
   "id": "5ecd671e-8923-4373-b346-159ecb8fbbe4",
   "metadata": {
    "extensions": {
     "jupyter_dashboards": {
      "version": 1,
      "views": {
       "grid_default": {},
       "report_default": {
        "hidden": true
       }
      }
     }
    }
   },
   "outputs": [],
   "source": []
  }
 ],
 "metadata": {
  "extensions": {
   "jupyter_dashboards": {
    "activeView": "report_default",
    "version": 1,
    "views": {
     "grid_default": {
      "name": "grid",
      "type": "grid"
     },
     "report_default": {
      "name": "report",
      "type": "report"
     }
    }
   }
  },
  "kernelspec": {
   "display_name": "Python 3 (ipykernel)",
   "language": "python",
   "name": "python3"
  },
  "language_info": {
   "codemirror_mode": {
    "name": "ipython",
    "version": 3
   },
   "file_extension": ".py",
   "mimetype": "text/x-python",
   "name": "python",
   "nbconvert_exporter": "python",
   "pygments_lexer": "ipython3",
   "version": "3.8.0"
  }
 },
 "nbformat": 4,
 "nbformat_minor": 5
}
